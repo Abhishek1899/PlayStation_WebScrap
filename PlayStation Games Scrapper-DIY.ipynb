{
 "cells": [
  {
   "cell_type": "markdown",
   "metadata": {},
   "source": [
    "  <tr>\n",
    "        <td width=\"60%\">\n",
    "            <img src=\"data_scraping.png\">\n",
    "        </td>\n",
    "        <td>\n",
    "            <div align=\"center\">\n",
    "                <font size=24px>\n",
    "                    <b> Step By Step: PlayStation Games Scraper\n",
    "                    </b>\n",
    "                </font>\n",
    "            </div>\n",
    "        </td>\n",
    "    </tr>"
   ]
  },
  {
   "cell_type": "markdown",
   "metadata": {},
   "source": [
    "<img src='site.png'>"
   ]
  },
  {
   "cell_type": "markdown",
   "metadata": {},
   "source": [
    "<img src='game.png'>"
   ]
  },
  {
   "cell_type": "code",
   "execution_count": 1,
   "metadata": {},
   "outputs": [
    {
     "name": "stdout",
     "output_type": "stream",
     "text": [
      "Requirement already satisfied: beautifulsoup4 in d:\\data science\\lib\\site-packages (4.8.2)\n",
      "Requirement already satisfied: soupsieve>=1.2 in d:\\data science\\lib\\site-packages (from beautifulsoup4) (1.9.5)\n"
     ]
    }
   ],
   "source": [
    "# Install BeautifulSoup4\n",
    "!pip install beautifulsoup4"
   ]
  },
  {
   "cell_type": "code",
   "execution_count": 1,
   "metadata": {},
   "outputs": [],
   "source": [
    "# libraries for Web Scrapping\n",
    "import requests\n",
    "from bs4 import BeautifulSoup\n",
    "\n",
    "# library for advance string manipulation\n",
    "import string\n",
    "\n",
    "# library for data manipulation\n",
    "import pandas as pd\n",
    "\n",
    "# library for advance mathematical operations\n",
    "import numpy as np\n",
    "\n",
    "\n",
    "\n",
    "# libraries for data visualization\n",
    "import matplotlib.pyplot as plt\n",
    "import seaborn as sns"
   ]
  },
  {
   "cell_type": "markdown",
   "metadata": {},
   "source": [
    "# Scrape a single page"
   ]
  },
  {
   "cell_type": "markdown",
   "metadata": {},
   "source": [
    "<img src='page.png'>"
   ]
  },
  {
   "cell_type": "code",
   "execution_count": 3,
   "metadata": {
    "scrolled": false
   },
   "outputs": [],
   "source": [
    "# extract the first page as a whole\n",
    "page = requests .get(\"https://store.playstation.com/en-in/grid/STORE-MSF75508-FULLGAMES/1\")"
   ]
  },
  {
   "cell_type": "code",
   "execution_count": 6,
   "metadata": {},
   "outputs": [
    {
     "data": {
      "text/plain": [
       "<Response [200]>"
      ]
     },
     "execution_count": 6,
     "metadata": {},
     "output_type": "execute_result"
    }
   ],
   "source": [
    "page"
   ]
  },
  {
   "cell_type": "code",
   "execution_count": null,
   "metadata": {},
   "outputs": [],
   "source": []
  },
  {
   "cell_type": "code",
   "execution_count": null,
   "metadata": {},
   "outputs": [],
   "source": []
  },
  {
   "cell_type": "code",
   "execution_count": 5,
   "metadata": {},
   "outputs": [],
   "source": [
    "# parse the whole page using a html parser\n",
    "soup = BeautifulSoup(page.content, 'html.parser')"
   ]
  },
  {
   "cell_type": "code",
   "execution_count": 6,
   "metadata": {},
   "outputs": [],
   "source": [
    "#soup"
   ]
  },
  {
   "cell_type": "markdown",
   "metadata": {},
   "source": [
    "# Scrape a page using page number (Generalization)"
   ]
  },
  {
   "cell_type": "code",
   "execution_count": 7,
   "metadata": {},
   "outputs": [],
   "source": [
    "# declare a variable page_number\n",
    "page_num = 1\n",
    "\n",
    "# extract the page as a whole for a specific page number\n",
    "page = requests .get(\"https://store.playstation.com/en-in/grid/STORE-MSF75508-FULLGAMES/{}\".format(page_num))\n",
    "\n",
    "# parse the whole page using a html parser\n",
    "soup = BeautifulSoup(page.content, 'html.parser')\n",
    "#soup"
   ]
  },
  {
   "cell_type": "markdown",
   "metadata": {},
   "source": [
    "## Extract Images"
   ]
  },
  {
   "cell_type": "markdown",
   "metadata": {},
   "source": [
    "<img src='image.png'>"
   ]
  },
  {
   "cell_type": "code",
   "execution_count": 8,
   "metadata": {},
   "outputs": [
    {
     "data": {
      "text/plain": [
       "30"
      ]
     },
     "execution_count": 8,
     "metadata": {},
     "output_type": "execute_result"
    }
   ],
   "source": [
    "# find_all() searches for the all the tags where the class is found and \n",
    "# returns a list of all the occurences \n",
    "# find all the images from the page\n",
    "#product-image__img product-image__img--main\n",
    "all_images = soup.findAll(class_ = \"product-image__img product-image__img--main\")\n",
    "\n",
    "# find the length of the elements extracted\n",
    "len(all_images)"
   ]
  },
  {
   "cell_type": "code",
   "execution_count": 9,
   "metadata": {
    "scrolled": true
   },
   "outputs": [
    {
     "data": {
      "text/plain": [
       "[<div class=\"product-image__img product-image__img--main\">\n",
       " <img class=\"product-image__img product-image__img--product product-image__img-main\" onload=\"this.classList.add('product-image__img-main--show');\" src=\"https://store.playstation.com/store/api/chihiro/00_09_000/container/IN/en/999/EP0082-CUSA18742_00-0000000000000000/1600956898000/image?w=124&amp;h=124&amp;bg_color=000000&amp;opacity=100&amp;_version=00_09_000\" srcset=\"https://store.playstation.com/store/api/chihiro/00_09_000/container/IN/en/999/EP0082-CUSA18742_00-0000000000000000/1600956898000/image?w=186&amp;h=186&amp;bg_color=000000&amp;opacity=100&amp;_version=00_09_000 1.5x, https://store.playstation.com/store/api/chihiro/00_09_000/container/IN/en/999/EP0082-CUSA18742_00-0000000000000000/1600956898000/image?w=248&amp;h=248&amp;bg_color=000000&amp;opacity=100&amp;_version=00_09_000 2x, https://store.playstation.com/store/api/chihiro/00_09_000/container/IN/en/999/EP0082-CUSA18742_00-0000000000000000/1600956898000/image?w=372&amp;h=372&amp;bg_color=000000&amp;opacity=100&amp;_version=00_09_000 3x, https://store.playstation.com/store/api/chihiro/00_09_000/container/IN/en/999/EP0082-CUSA18742_00-0000000000000000/1600956898000/image?w=496&amp;h=496&amp;bg_color=000000&amp;opacity=100&amp;_version=00_09_000 4x\"/>\n",
       " </div>,\n",
       " <div class=\"product-image__img product-image__img--main\">\n",
       " <img class=\"product-image__img product-image__img--product product-image__img-main\" onload=\"this.classList.add('product-image__img-main--show');\" src=\"https://store.playstation.com/store/api/chihiro/00_09_000/container/IN/en/999/EP0082-CUSA24813_00-BALANWWE00000001/1600820607000/image?w=124&amp;h=124&amp;bg_color=000000&amp;opacity=100&amp;_version=00_09_000\" srcset=\"https://store.playstation.com/store/api/chihiro/00_09_000/container/IN/en/999/EP0082-CUSA24813_00-BALANWWE00000001/1600820607000/image?w=186&amp;h=186&amp;bg_color=000000&amp;opacity=100&amp;_version=00_09_000 1.5x, https://store.playstation.com/store/api/chihiro/00_09_000/container/IN/en/999/EP0082-CUSA24813_00-BALANWWE00000001/1600820607000/image?w=248&amp;h=248&amp;bg_color=000000&amp;opacity=100&amp;_version=00_09_000 2x, https://store.playstation.com/store/api/chihiro/00_09_000/container/IN/en/999/EP0082-CUSA24813_00-BALANWWE00000001/1600820607000/image?w=372&amp;h=372&amp;bg_color=000000&amp;opacity=100&amp;_version=00_09_000 3x, https://store.playstation.com/store/api/chihiro/00_09_000/container/IN/en/999/EP0082-CUSA24813_00-BALANWWE00000001/1600820607000/image?w=496&amp;h=496&amp;bg_color=000000&amp;opacity=100&amp;_version=00_09_000 4x\"/>\n",
       " </div>,\n",
       " <div class=\"product-image__img product-image__img--main\">\n",
       " <img class=\"product-image__img product-image__img--product product-image__img-main\" onload=\"this.classList.add('product-image__img-main--show');\" src=\"https://store.playstation.com/store/api/chihiro/00_09_000/container/IN/en/999/EP0001-CUSA19394_00-MADSTANDARTED000/1600126823000/image?w=124&amp;h=124&amp;bg_color=000000&amp;opacity=100&amp;_version=00_09_000\" srcset=\"https://store.playstation.com/store/api/chihiro/00_09_000/container/IN/en/999/EP0001-CUSA19394_00-MADSTANDARTED000/1600126823000/image?w=186&amp;h=186&amp;bg_color=000000&amp;opacity=100&amp;_version=00_09_000 1.5x, https://store.playstation.com/store/api/chihiro/00_09_000/container/IN/en/999/EP0001-CUSA19394_00-MADSTANDARTED000/1600126823000/image?w=248&amp;h=248&amp;bg_color=000000&amp;opacity=100&amp;_version=00_09_000 2x, https://store.playstation.com/store/api/chihiro/00_09_000/container/IN/en/999/EP0001-CUSA19394_00-MADSTANDARTED000/1600126823000/image?w=372&amp;h=372&amp;bg_color=000000&amp;opacity=100&amp;_version=00_09_000 3x, https://store.playstation.com/store/api/chihiro/00_09_000/container/IN/en/999/EP0001-CUSA19394_00-MADSTANDARTED000/1600126823000/image?w=496&amp;h=496&amp;bg_color=000000&amp;opacity=100&amp;_version=00_09_000 4x\"/>\n",
       " </div>,\n",
       " <div class=\"product-image__img product-image__img--main\">\n",
       " <img class=\"product-image__img product-image__img--product product-image__img-main\" onload=\"this.classList.add('product-image__img-main--show');\" src=\"https://store.playstation.com/store/api/chihiro/00_09_000/container/IN/en/999/EP0001-CUSA19394_00-MADGOLDED0000000/1600132073000/image?w=124&amp;h=124&amp;bg_color=000000&amp;opacity=100&amp;_version=00_09_000\" srcset=\"https://store.playstation.com/store/api/chihiro/00_09_000/container/IN/en/999/EP0001-CUSA19394_00-MADGOLDED0000000/1600132073000/image?w=186&amp;h=186&amp;bg_color=000000&amp;opacity=100&amp;_version=00_09_000 1.5x, https://store.playstation.com/store/api/chihiro/00_09_000/container/IN/en/999/EP0001-CUSA19394_00-MADGOLDED0000000/1600132073000/image?w=248&amp;h=248&amp;bg_color=000000&amp;opacity=100&amp;_version=00_09_000 2x, https://store.playstation.com/store/api/chihiro/00_09_000/container/IN/en/999/EP0001-CUSA19394_00-MADGOLDED0000000/1600132073000/image?w=372&amp;h=372&amp;bg_color=000000&amp;opacity=100&amp;_version=00_09_000 3x, https://store.playstation.com/store/api/chihiro/00_09_000/container/IN/en/999/EP0001-CUSA19394_00-MADGOLDED0000000/1600132073000/image?w=496&amp;h=496&amp;bg_color=000000&amp;opacity=100&amp;_version=00_09_000 4x\"/>\n",
       " </div>,\n",
       " <div class=\"product-image__img product-image__img--main\">\n",
       " <img class=\"product-image__img product-image__img--product product-image__img-main\" onload=\"this.classList.add('product-image__img-main--show');\" src=\"https://store.playstation.com/store/api/chihiro/00_09_000/container/IN/en/999/EP0001-CUSA19394_00-MADULTIMATEED000/1600128431000/image?w=124&amp;h=124&amp;bg_color=000000&amp;opacity=100&amp;_version=00_09_000\" srcset=\"https://store.playstation.com/store/api/chihiro/00_09_000/container/IN/en/999/EP0001-CUSA19394_00-MADULTIMATEED000/1600128431000/image?w=186&amp;h=186&amp;bg_color=000000&amp;opacity=100&amp;_version=00_09_000 1.5x, https://store.playstation.com/store/api/chihiro/00_09_000/container/IN/en/999/EP0001-CUSA19394_00-MADULTIMATEED000/1600128431000/image?w=248&amp;h=248&amp;bg_color=000000&amp;opacity=100&amp;_version=00_09_000 2x, https://store.playstation.com/store/api/chihiro/00_09_000/container/IN/en/999/EP0001-CUSA19394_00-MADULTIMATEED000/1600128431000/image?w=372&amp;h=372&amp;bg_color=000000&amp;opacity=100&amp;_version=00_09_000 3x, https://store.playstation.com/store/api/chihiro/00_09_000/container/IN/en/999/EP0001-CUSA19394_00-MADULTIMATEED000/1600128431000/image?w=496&amp;h=496&amp;bg_color=000000&amp;opacity=100&amp;_version=00_09_000 4x\"/>\n",
       " </div>,\n",
       " <div class=\"product-image__img product-image__img--main\">\n",
       " <img class=\"product-image__img product-image__img--product product-image__img-main\" onload=\"this.classList.add('product-image__img-main--show');\" src=\"https://store.playstation.com/store/api/chihiro/00_09_000/container/IN/en/999/EP0001-CUSA15778_00-FC6EDITIONGOLD00/1603146861000/image?w=124&amp;h=124&amp;bg_color=000000&amp;opacity=100&amp;_version=00_09_000\" srcset=\"https://store.playstation.com/store/api/chihiro/00_09_000/container/IN/en/999/EP0001-CUSA15778_00-FC6EDITIONGOLD00/1603146861000/image?w=186&amp;h=186&amp;bg_color=000000&amp;opacity=100&amp;_version=00_09_000 1.5x, https://store.playstation.com/store/api/chihiro/00_09_000/container/IN/en/999/EP0001-CUSA15778_00-FC6EDITIONGOLD00/1603146861000/image?w=248&amp;h=248&amp;bg_color=000000&amp;opacity=100&amp;_version=00_09_000 2x, https://store.playstation.com/store/api/chihiro/00_09_000/container/IN/en/999/EP0001-CUSA15778_00-FC6EDITIONGOLD00/1603146861000/image?w=372&amp;h=372&amp;bg_color=000000&amp;opacity=100&amp;_version=00_09_000 3x, https://store.playstation.com/store/api/chihiro/00_09_000/container/IN/en/999/EP0001-CUSA15778_00-FC6EDITIONGOLD00/1603146861000/image?w=496&amp;h=496&amp;bg_color=000000&amp;opacity=100&amp;_version=00_09_000 4x\"/>\n",
       " </div>,\n",
       " <div class=\"product-image__img product-image__img--main\">\n",
       " <img class=\"product-image__img product-image__img--product product-image__img-main\" onload=\"this.classList.add('product-image__img-main--show');\" src=\"https://store.playstation.com/store/api/chihiro/00_09_000/container/IN/en/999/EP0001-CUSA15778_00-FC6EDSTANDARD000/1603146590000/image?w=124&amp;h=124&amp;bg_color=000000&amp;opacity=100&amp;_version=00_09_000\" srcset=\"https://store.playstation.com/store/api/chihiro/00_09_000/container/IN/en/999/EP0001-CUSA15778_00-FC6EDSTANDARD000/1603146590000/image?w=186&amp;h=186&amp;bg_color=000000&amp;opacity=100&amp;_version=00_09_000 1.5x, https://store.playstation.com/store/api/chihiro/00_09_000/container/IN/en/999/EP0001-CUSA15778_00-FC6EDSTANDARD000/1603146590000/image?w=248&amp;h=248&amp;bg_color=000000&amp;opacity=100&amp;_version=00_09_000 2x, https://store.playstation.com/store/api/chihiro/00_09_000/container/IN/en/999/EP0001-CUSA15778_00-FC6EDSTANDARD000/1603146590000/image?w=372&amp;h=372&amp;bg_color=000000&amp;opacity=100&amp;_version=00_09_000 3x, https://store.playstation.com/store/api/chihiro/00_09_000/container/IN/en/999/EP0001-CUSA15778_00-FC6EDSTANDARD000/1603146590000/image?w=496&amp;h=496&amp;bg_color=000000&amp;opacity=100&amp;_version=00_09_000 4x\"/>\n",
       " </div>,\n",
       " <div class=\"product-image__img product-image__img--main\">\n",
       " <img class=\"product-image__img product-image__img--product product-image__img-main\" onload=\"this.classList.add('product-image__img-main--show');\" src=\"https://store.playstation.com/store/api/chihiro/00_09_000/container/IN/en/999/EP0001-CUSA15778_00-FC6EDULTIMATE000/1603147276000/image?w=124&amp;h=124&amp;bg_color=000000&amp;opacity=100&amp;_version=00_09_000\" srcset=\"https://store.playstation.com/store/api/chihiro/00_09_000/container/IN/en/999/EP0001-CUSA15778_00-FC6EDULTIMATE000/1603147276000/image?w=186&amp;h=186&amp;bg_color=000000&amp;opacity=100&amp;_version=00_09_000 1.5x, https://store.playstation.com/store/api/chihiro/00_09_000/container/IN/en/999/EP0001-CUSA15778_00-FC6EDULTIMATE000/1603147276000/image?w=248&amp;h=248&amp;bg_color=000000&amp;opacity=100&amp;_version=00_09_000 2x, https://store.playstation.com/store/api/chihiro/00_09_000/container/IN/en/999/EP0001-CUSA15778_00-FC6EDULTIMATE000/1603147276000/image?w=372&amp;h=372&amp;bg_color=000000&amp;opacity=100&amp;_version=00_09_000 3x, https://store.playstation.com/store/api/chihiro/00_09_000/container/IN/en/999/EP0001-CUSA15778_00-FC6EDULTIMATE000/1603147276000/image?w=496&amp;h=496&amp;bg_color=000000&amp;opacity=100&amp;_version=00_09_000 4x\"/>\n",
       " </div>,\n",
       " <div class=\"product-image__img product-image__img--main\">\n",
       " <img class=\"product-image__img product-image__img--product product-image__img-main\" onload=\"this.classList.add('product-image__img-main--show');\" src=\"https://store.playstation.com/store/api/chihiro/00_09_000/container/IN/en/999/EP0082-CUSA07371_00-OUTRIDERS0000000/1602590971000/image?w=124&amp;h=124&amp;bg_color=000000&amp;opacity=100&amp;_version=00_09_000\" srcset=\"https://store.playstation.com/store/api/chihiro/00_09_000/container/IN/en/999/EP0082-CUSA07371_00-OUTRIDERS0000000/1602590971000/image?w=186&amp;h=186&amp;bg_color=000000&amp;opacity=100&amp;_version=00_09_000 1.5x, https://store.playstation.com/store/api/chihiro/00_09_000/container/IN/en/999/EP0082-CUSA07371_00-OUTRIDERS0000000/1602590971000/image?w=248&amp;h=248&amp;bg_color=000000&amp;opacity=100&amp;_version=00_09_000 2x, https://store.playstation.com/store/api/chihiro/00_09_000/container/IN/en/999/EP0082-CUSA07371_00-OUTRIDERS0000000/1602590971000/image?w=372&amp;h=372&amp;bg_color=000000&amp;opacity=100&amp;_version=00_09_000 3x, https://store.playstation.com/store/api/chihiro/00_09_000/container/IN/en/999/EP0082-CUSA07371_00-OUTRIDERS0000000/1602590971000/image?w=496&amp;h=496&amp;bg_color=000000&amp;opacity=100&amp;_version=00_09_000 4x\"/>\n",
       " </div>,\n",
       " <div class=\"product-image__img product-image__img--main\">\n",
       " <img class=\"product-image__img product-image__img--product product-image__img-main\" onload=\"this.classList.add('product-image__img-main--show');\" src=\"https://store.playstation.com/store/api/chihiro/00_09_000/container/IN/en/999/EP0001-CUSA18532_00-POPSOTREMAKE2020/1602672701000/image?w=124&amp;h=124&amp;bg_color=000000&amp;opacity=100&amp;_version=00_09_000\" srcset=\"https://store.playstation.com/store/api/chihiro/00_09_000/container/IN/en/999/EP0001-CUSA18532_00-POPSOTREMAKE2020/1602672701000/image?w=186&amp;h=186&amp;bg_color=000000&amp;opacity=100&amp;_version=00_09_000 1.5x, https://store.playstation.com/store/api/chihiro/00_09_000/container/IN/en/999/EP0001-CUSA18532_00-POPSOTREMAKE2020/1602672701000/image?w=248&amp;h=248&amp;bg_color=000000&amp;opacity=100&amp;_version=00_09_000 2x, https://store.playstation.com/store/api/chihiro/00_09_000/container/IN/en/999/EP0001-CUSA18532_00-POPSOTREMAKE2020/1602672701000/image?w=372&amp;h=372&amp;bg_color=000000&amp;opacity=100&amp;_version=00_09_000 3x, https://store.playstation.com/store/api/chihiro/00_09_000/container/IN/en/999/EP0001-CUSA18532_00-POPSOTREMAKE2020/1602672701000/image?w=496&amp;h=496&amp;bg_color=000000&amp;opacity=100&amp;_version=00_09_000 4x\"/>\n",
       " </div>,\n",
       " <div class=\"product-image__img product-image__img--main\">\n",
       " <img class=\"product-image__img product-image__img--product product-image__img-main\" onload=\"this.classList.add('product-image__img-main--show');\" src=\"https://store.playstation.com/store/api/chihiro/00_09_000/container/IN/en/999/EP3969-CUSA18210_00-0000000H3PREDELX/1603120981000/image?w=124&amp;h=124&amp;bg_color=000000&amp;opacity=100&amp;_version=00_09_000\" srcset=\"https://store.playstation.com/store/api/chihiro/00_09_000/container/IN/en/999/EP3969-CUSA18210_00-0000000H3PREDELX/1603120981000/image?w=186&amp;h=186&amp;bg_color=000000&amp;opacity=100&amp;_version=00_09_000 1.5x, https://store.playstation.com/store/api/chihiro/00_09_000/container/IN/en/999/EP3969-CUSA18210_00-0000000H3PREDELX/1603120981000/image?w=248&amp;h=248&amp;bg_color=000000&amp;opacity=100&amp;_version=00_09_000 2x, https://store.playstation.com/store/api/chihiro/00_09_000/container/IN/en/999/EP3969-CUSA18210_00-0000000H3PREDELX/1603120981000/image?w=372&amp;h=372&amp;bg_color=000000&amp;opacity=100&amp;_version=00_09_000 3x, https://store.playstation.com/store/api/chihiro/00_09_000/container/IN/en/999/EP3969-CUSA18210_00-0000000H3PREDELX/1603120981000/image?w=496&amp;h=496&amp;bg_color=000000&amp;opacity=100&amp;_version=00_09_000 4x\"/>\n",
       " </div>,\n",
       " <div class=\"product-image__img product-image__img--main\">\n",
       " <img class=\"product-image__img product-image__img--product product-image__img-main\" onload=\"this.classList.add('product-image__img-main--show');\" src=\"https://store.playstation.com/store/api/chihiro/00_09_000/container/IN/en/999/EP3969-CUSA18210_00-00000H3PRESTANDA/1603103951000/image?w=124&amp;h=124&amp;bg_color=000000&amp;opacity=100&amp;_version=00_09_000\" srcset=\"https://store.playstation.com/store/api/chihiro/00_09_000/container/IN/en/999/EP3969-CUSA18210_00-00000H3PRESTANDA/1603103951000/image?w=186&amp;h=186&amp;bg_color=000000&amp;opacity=100&amp;_version=00_09_000 1.5x, https://store.playstation.com/store/api/chihiro/00_09_000/container/IN/en/999/EP3969-CUSA18210_00-00000H3PRESTANDA/1603103951000/image?w=248&amp;h=248&amp;bg_color=000000&amp;opacity=100&amp;_version=00_09_000 2x, https://store.playstation.com/store/api/chihiro/00_09_000/container/IN/en/999/EP3969-CUSA18210_00-00000H3PRESTANDA/1603103951000/image?w=372&amp;h=372&amp;bg_color=000000&amp;opacity=100&amp;_version=00_09_000 3x, https://store.playstation.com/store/api/chihiro/00_09_000/container/IN/en/999/EP3969-CUSA18210_00-00000H3PRESTANDA/1603103951000/image?w=496&amp;h=496&amp;bg_color=000000&amp;opacity=100&amp;_version=00_09_000 4x\"/>\n",
       " </div>,\n",
       " <div class=\"product-image__img product-image__img--main\">\n",
       " <img class=\"product-image__img product-image__img--product product-image__img-main\" onload=\"this.classList.add('product-image__img-main--show');\" src=\"https://store.playstation.com/store/api/chihiro/00_09_000/container/IN/en/999/EP0082-CUSA19120_00-0000000000000000/1600939084000/image?w=124&amp;h=124&amp;bg_color=000000&amp;opacity=100&amp;_version=00_09_000\" srcset=\"https://store.playstation.com/store/api/chihiro/00_09_000/container/IN/en/999/EP0082-CUSA19120_00-0000000000000000/1600939084000/image?w=186&amp;h=186&amp;bg_color=000000&amp;opacity=100&amp;_version=00_09_000 1.5x, https://store.playstation.com/store/api/chihiro/00_09_000/container/IN/en/999/EP0082-CUSA19120_00-0000000000000000/1600939084000/image?w=248&amp;h=248&amp;bg_color=000000&amp;opacity=100&amp;_version=00_09_000 2x, https://store.playstation.com/store/api/chihiro/00_09_000/container/IN/en/999/EP0082-CUSA19120_00-0000000000000000/1600939084000/image?w=372&amp;h=372&amp;bg_color=000000&amp;opacity=100&amp;_version=00_09_000 3x, https://store.playstation.com/store/api/chihiro/00_09_000/container/IN/en/999/EP0082-CUSA19120_00-0000000000000000/1600939084000/image?w=496&amp;h=496&amp;bg_color=000000&amp;opacity=100&amp;_version=00_09_000 4x\"/>\n",
       " </div>,\n",
       " <div class=\"product-image__img product-image__img--main\">\n",
       " <img class=\"product-image__img product-image__img--product product-image__img-main\" onload=\"this.classList.add('product-image__img-main--show');\" src=\"https://store.playstation.com/store/api/chihiro/00_09_000/container/IN/en/999/EP0001-CUSA16345_00-GAME000000000000/1602056951000/image?w=124&amp;h=124&amp;bg_color=000000&amp;opacity=100&amp;_version=00_09_000\" srcset=\"https://store.playstation.com/store/api/chihiro/00_09_000/container/IN/en/999/EP0001-CUSA16345_00-GAME000000000000/1602056951000/image?w=186&amp;h=186&amp;bg_color=000000&amp;opacity=100&amp;_version=00_09_000 1.5x, https://store.playstation.com/store/api/chihiro/00_09_000/container/IN/en/999/EP0001-CUSA16345_00-GAME000000000000/1602056951000/image?w=248&amp;h=248&amp;bg_color=000000&amp;opacity=100&amp;_version=00_09_000 2x, https://store.playstation.com/store/api/chihiro/00_09_000/container/IN/en/999/EP0001-CUSA16345_00-GAME000000000000/1602056951000/image?w=372&amp;h=372&amp;bg_color=000000&amp;opacity=100&amp;_version=00_09_000 3x, https://store.playstation.com/store/api/chihiro/00_09_000/container/IN/en/999/EP0001-CUSA16345_00-GAME000000000000/1602056951000/image?w=496&amp;h=496&amp;bg_color=000000&amp;opacity=100&amp;_version=00_09_000 4x\"/>\n",
       " </div>,\n",
       " <div class=\"product-image__img product-image__img--main\">\n",
       " <img class=\"product-image__img product-image__img--product product-image__img-main\" onload=\"this.classList.add('product-image__img-main--show');\" src=\"https://store.playstation.com/store/api/chihiro/00_09_000/container/IN/en/999/EP0001-CUSA16345_00-EDITIONGOLD00000/1600068274000/image?w=124&amp;h=124&amp;bg_color=000000&amp;opacity=100&amp;_version=00_09_000\" srcset=\"https://store.playstation.com/store/api/chihiro/00_09_000/container/IN/en/999/EP0001-CUSA16345_00-EDITIONGOLD00000/1600068274000/image?w=186&amp;h=186&amp;bg_color=000000&amp;opacity=100&amp;_version=00_09_000 1.5x, https://store.playstation.com/store/api/chihiro/00_09_000/container/IN/en/999/EP0001-CUSA16345_00-EDITIONGOLD00000/1600068274000/image?w=248&amp;h=248&amp;bg_color=000000&amp;opacity=100&amp;_version=00_09_000 2x, https://store.playstation.com/store/api/chihiro/00_09_000/container/IN/en/999/EP0001-CUSA16345_00-EDITIONGOLD00000/1600068274000/image?w=372&amp;h=372&amp;bg_color=000000&amp;opacity=100&amp;_version=00_09_000 3x, https://store.playstation.com/store/api/chihiro/00_09_000/container/IN/en/999/EP0001-CUSA16345_00-EDITIONGOLD00000/1600068274000/image?w=496&amp;h=496&amp;bg_color=000000&amp;opacity=100&amp;_version=00_09_000 4x\"/>\n",
       " </div>,\n",
       " <div class=\"product-image__img product-image__img--main\">\n",
       " <img class=\"product-image__img product-image__img--product product-image__img-main\" onload=\"this.classList.add('product-image__img-main--show');\" src=\"https://store.playstation.com/store/api/chihiro/00_09_000/container/IN/en/999/EP4139-CUSA17732_00-EOSDELUXEPREEU01/1600443589000/image?w=124&amp;h=124&amp;bg_color=000000&amp;opacity=100&amp;_version=00_09_000\" srcset=\"https://store.playstation.com/store/api/chihiro/00_09_000/container/IN/en/999/EP4139-CUSA17732_00-EOSDELUXEPREEU01/1600443589000/image?w=186&amp;h=186&amp;bg_color=000000&amp;opacity=100&amp;_version=00_09_000 1.5x, https://store.playstation.com/store/api/chihiro/00_09_000/container/IN/en/999/EP4139-CUSA17732_00-EOSDELUXEPREEU01/1600443589000/image?w=248&amp;h=248&amp;bg_color=000000&amp;opacity=100&amp;_version=00_09_000 2x, https://store.playstation.com/store/api/chihiro/00_09_000/container/IN/en/999/EP4139-CUSA17732_00-EOSDELUXEPREEU01/1600443589000/image?w=372&amp;h=372&amp;bg_color=000000&amp;opacity=100&amp;_version=00_09_000 3x, https://store.playstation.com/store/api/chihiro/00_09_000/container/IN/en/999/EP4139-CUSA17732_00-EOSDELUXEPREEU01/1600443589000/image?w=496&amp;h=496&amp;bg_color=000000&amp;opacity=100&amp;_version=00_09_000 4x\"/>\n",
       " </div>,\n",
       " <div class=\"product-image__img product-image__img--main\">\n",
       " <img class=\"product-image__img product-image__img--product product-image__img-main\" onload=\"this.classList.add('product-image__img-main--show');\" src=\"https://store.playstation.com/store/api/chihiro/00_09_000/container/IN/en/999/EP4139-CUSA17732_00-EOSPREMIUMPREEU1/1600443589000/image?w=124&amp;h=124&amp;bg_color=000000&amp;opacity=100&amp;_version=00_09_000\" srcset=\"https://store.playstation.com/store/api/chihiro/00_09_000/container/IN/en/999/EP4139-CUSA17732_00-EOSPREMIUMPREEU1/1600443589000/image?w=186&amp;h=186&amp;bg_color=000000&amp;opacity=100&amp;_version=00_09_000 1.5x, https://store.playstation.com/store/api/chihiro/00_09_000/container/IN/en/999/EP4139-CUSA17732_00-EOSPREMIUMPREEU1/1600443589000/image?w=248&amp;h=248&amp;bg_color=000000&amp;opacity=100&amp;_version=00_09_000 2x, https://store.playstation.com/store/api/chihiro/00_09_000/container/IN/en/999/EP4139-CUSA17732_00-EOSPREMIUMPREEU1/1600443589000/image?w=372&amp;h=372&amp;bg_color=000000&amp;opacity=100&amp;_version=00_09_000 3x, https://store.playstation.com/store/api/chihiro/00_09_000/container/IN/en/999/EP4139-CUSA17732_00-EOSPREMIUMPREEU1/1600443589000/image?w=496&amp;h=496&amp;bg_color=000000&amp;opacity=100&amp;_version=00_09_000 4x\"/>\n",
       " </div>,\n",
       " <div class=\"product-image__img product-image__img--main\">\n",
       " <img class=\"product-image__img product-image__img--product product-image__img-main\" onload=\"this.classList.add('product-image__img-main--show');\" src=\"https://store.playstation.com/store/api/chihiro/00_09_000/container/IN/en/999/EP4139-CUSA17732_00-EOSSTANDARDPREEU/1600444518000/image?w=124&amp;h=124&amp;bg_color=000000&amp;opacity=100&amp;_version=00_09_000\" srcset=\"https://store.playstation.com/store/api/chihiro/00_09_000/container/IN/en/999/EP4139-CUSA17732_00-EOSSTANDARDPREEU/1600444518000/image?w=186&amp;h=186&amp;bg_color=000000&amp;opacity=100&amp;_version=00_09_000 1.5x, https://store.playstation.com/store/api/chihiro/00_09_000/container/IN/en/999/EP4139-CUSA17732_00-EOSSTANDARDPREEU/1600444518000/image?w=248&amp;h=248&amp;bg_color=000000&amp;opacity=100&amp;_version=00_09_000 2x, https://store.playstation.com/store/api/chihiro/00_09_000/container/IN/en/999/EP4139-CUSA17732_00-EOSSTANDARDPREEU/1600444518000/image?w=372&amp;h=372&amp;bg_color=000000&amp;opacity=100&amp;_version=00_09_000 3x, https://store.playstation.com/store/api/chihiro/00_09_000/container/IN/en/999/EP4139-CUSA17732_00-EOSSTANDARDPREEU/1600444518000/image?w=496&amp;h=496&amp;bg_color=000000&amp;opacity=100&amp;_version=00_09_000 4x\"/>\n",
       " </div>,\n",
       " <div class=\"product-image__img product-image__img--main\">\n",
       " <img class=\"product-image__img product-image__img--product product-image__img-main\" onload=\"this.classList.add('product-image__img-main--show');\" src=\"https://store.playstation.com/store/api/chihiro/00_09_000/container/IN/en/999/EP4492-CUSA17052_00-SAKUNA0000000000/1602760052000/image?w=124&amp;h=124&amp;bg_color=000000&amp;opacity=100&amp;_version=00_09_000\" srcset=\"https://store.playstation.com/store/api/chihiro/00_09_000/container/IN/en/999/EP4492-CUSA17052_00-SAKUNA0000000000/1602760052000/image?w=186&amp;h=186&amp;bg_color=000000&amp;opacity=100&amp;_version=00_09_000 1.5x, https://store.playstation.com/store/api/chihiro/00_09_000/container/IN/en/999/EP4492-CUSA17052_00-SAKUNA0000000000/1602760052000/image?w=248&amp;h=248&amp;bg_color=000000&amp;opacity=100&amp;_version=00_09_000 2x, https://store.playstation.com/store/api/chihiro/00_09_000/container/IN/en/999/EP4492-CUSA17052_00-SAKUNA0000000000/1602760052000/image?w=372&amp;h=372&amp;bg_color=000000&amp;opacity=100&amp;_version=00_09_000 3x, https://store.playstation.com/store/api/chihiro/00_09_000/container/IN/en/999/EP4492-CUSA17052_00-SAKUNA0000000000/1602760052000/image?w=496&amp;h=496&amp;bg_color=000000&amp;opacity=100&amp;_version=00_09_000 4x\"/>\n",
       " </div>,\n",
       " <div class=\"product-image__img product-image__img--main\">\n",
       " <img class=\"product-image__img product-image__img--product product-image__img-main\" onload=\"this.classList.add('product-image__img-main--show');\" src=\"https://store.playstation.com/store/api/chihiro/00_09_000/container/IN/en/999/EP4492-CUSA17052_00-SAKUNADELUXE0000/1602760053000/image?w=124&amp;h=124&amp;bg_color=000000&amp;opacity=100&amp;_version=00_09_000\" srcset=\"https://store.playstation.com/store/api/chihiro/00_09_000/container/IN/en/999/EP4492-CUSA17052_00-SAKUNADELUXE0000/1602760053000/image?w=186&amp;h=186&amp;bg_color=000000&amp;opacity=100&amp;_version=00_09_000 1.5x, https://store.playstation.com/store/api/chihiro/00_09_000/container/IN/en/999/EP4492-CUSA17052_00-SAKUNADELUXE0000/1602760053000/image?w=248&amp;h=248&amp;bg_color=000000&amp;opacity=100&amp;_version=00_09_000 2x, https://store.playstation.com/store/api/chihiro/00_09_000/container/IN/en/999/EP4492-CUSA17052_00-SAKUNADELUXE0000/1602760053000/image?w=372&amp;h=372&amp;bg_color=000000&amp;opacity=100&amp;_version=00_09_000 3x, https://store.playstation.com/store/api/chihiro/00_09_000/container/IN/en/999/EP4492-CUSA17052_00-SAKUNADELUXE0000/1602760053000/image?w=496&amp;h=496&amp;bg_color=000000&amp;opacity=100&amp;_version=00_09_000 4x\"/>\n",
       " </div>,\n",
       " <div class=\"product-image__img product-image__img--main\">\n",
       " <img class=\"product-image__img product-image__img--product product-image__img-main\" onload=\"this.classList.add('product-image__img-main--show');\" src=\"https://store.playstation.com/store/api/chihiro/00_09_000/container/IN/en/999/EP4497-CUSA16579_00-0000000000000001/1603153731000/image?w=124&amp;h=124&amp;bg_color=000000&amp;opacity=100&amp;_version=00_09_000\" srcset=\"https://store.playstation.com/store/api/chihiro/00_09_000/container/IN/en/999/EP4497-CUSA16579_00-0000000000000001/1603153731000/image?w=186&amp;h=186&amp;bg_color=000000&amp;opacity=100&amp;_version=00_09_000 1.5x, https://store.playstation.com/store/api/chihiro/00_09_000/container/IN/en/999/EP4497-CUSA16579_00-0000000000000001/1603153731000/image?w=248&amp;h=248&amp;bg_color=000000&amp;opacity=100&amp;_version=00_09_000 2x, https://store.playstation.com/store/api/chihiro/00_09_000/container/IN/en/999/EP4497-CUSA16579_00-0000000000000001/1603153731000/image?w=372&amp;h=372&amp;bg_color=000000&amp;opacity=100&amp;_version=00_09_000 3x, https://store.playstation.com/store/api/chihiro/00_09_000/container/IN/en/999/EP4497-CUSA16579_00-0000000000000001/1603153731000/image?w=496&amp;h=496&amp;bg_color=000000&amp;opacity=100&amp;_version=00_09_000 4x\"/>\n",
       " </div>,\n",
       " <div class=\"product-image__img product-image__img--main\">\n",
       " <img class=\"product-image__img product-image__img--product product-image__img-main\" onload=\"this.classList.add('product-image__img-main--show');\" src=\"https://store.playstation.com/store/api/chihiro/00_09_000/container/IN/en/999/EP1018-CUSA11379_00-MK11ULTIMATEKOLL/1602876627000/image?w=124&amp;h=124&amp;bg_color=000000&amp;opacity=100&amp;_version=00_09_000\" srcset=\"https://store.playstation.com/store/api/chihiro/00_09_000/container/IN/en/999/EP1018-CUSA11379_00-MK11ULTIMATEKOLL/1602876627000/image?w=186&amp;h=186&amp;bg_color=000000&amp;opacity=100&amp;_version=00_09_000 1.5x, https://store.playstation.com/store/api/chihiro/00_09_000/container/IN/en/999/EP1018-CUSA11379_00-MK11ULTIMATEKOLL/1602876627000/image?w=248&amp;h=248&amp;bg_color=000000&amp;opacity=100&amp;_version=00_09_000 2x, https://store.playstation.com/store/api/chihiro/00_09_000/container/IN/en/999/EP1018-CUSA11379_00-MK11ULTIMATEKOLL/1602876627000/image?w=372&amp;h=372&amp;bg_color=000000&amp;opacity=100&amp;_version=00_09_000 3x, https://store.playstation.com/store/api/chihiro/00_09_000/container/IN/en/999/EP1018-CUSA11379_00-MK11ULTIMATEKOLL/1602876627000/image?w=496&amp;h=496&amp;bg_color=000000&amp;opacity=100&amp;_version=00_09_000 4x\"/>\n",
       " </div>,\n",
       " <div class=\"product-image__img product-image__img--main\">\n",
       " <img class=\"product-image__img product-image__img--product product-image__img-main\" onload=\"this.classList.add('product-image__img-main--show');\" src=\"https://store.playstation.com/store/api/chihiro/00_09_000/container/IN/en/999/EP0002-CUSA24267_00-CODCWCROSSGEN001/1603154340000/image?w=124&amp;h=124&amp;bg_color=000000&amp;opacity=100&amp;_version=00_09_000\" srcset=\"https://store.playstation.com/store/api/chihiro/00_09_000/container/IN/en/999/EP0002-CUSA24267_00-CODCWCROSSGEN001/1603154340000/image?w=186&amp;h=186&amp;bg_color=000000&amp;opacity=100&amp;_version=00_09_000 1.5x, https://store.playstation.com/store/api/chihiro/00_09_000/container/IN/en/999/EP0002-CUSA24267_00-CODCWCROSSGEN001/1603154340000/image?w=248&amp;h=248&amp;bg_color=000000&amp;opacity=100&amp;_version=00_09_000 2x, https://store.playstation.com/store/api/chihiro/00_09_000/container/IN/en/999/EP0002-CUSA24267_00-CODCWCROSSGEN001/1603154340000/image?w=372&amp;h=372&amp;bg_color=000000&amp;opacity=100&amp;_version=00_09_000 3x, https://store.playstation.com/store/api/chihiro/00_09_000/container/IN/en/999/EP0002-CUSA24267_00-CODCWCROSSGEN001/1603154340000/image?w=496&amp;h=496&amp;bg_color=000000&amp;opacity=100&amp;_version=00_09_000 4x\"/>\n",
       " </div>,\n",
       " <div class=\"product-image__img product-image__img--main\">\n",
       " <img class=\"product-image__img product-image__img--product product-image__img-main\" onload=\"this.classList.add('product-image__img-main--show');\" src=\"https://store.playstation.com/store/api/chihiro/00_09_000/container/IN/en/999/EP0002-CUSA24267_00-CODCWSTANDARD001/1602895037000/image?w=124&amp;h=124&amp;bg_color=000000&amp;opacity=100&amp;_version=00_09_000\" srcset=\"https://store.playstation.com/store/api/chihiro/00_09_000/container/IN/en/999/EP0002-CUSA24267_00-CODCWSTANDARD001/1602895037000/image?w=186&amp;h=186&amp;bg_color=000000&amp;opacity=100&amp;_version=00_09_000 1.5x, https://store.playstation.com/store/api/chihiro/00_09_000/container/IN/en/999/EP0002-CUSA24267_00-CODCWSTANDARD001/1602895037000/image?w=248&amp;h=248&amp;bg_color=000000&amp;opacity=100&amp;_version=00_09_000 2x, https://store.playstation.com/store/api/chihiro/00_09_000/container/IN/en/999/EP0002-CUSA24267_00-CODCWSTANDARD001/1602895037000/image?w=372&amp;h=372&amp;bg_color=000000&amp;opacity=100&amp;_version=00_09_000 3x, https://store.playstation.com/store/api/chihiro/00_09_000/container/IN/en/999/EP0002-CUSA24267_00-CODCWSTANDARD001/1602895037000/image?w=496&amp;h=496&amp;bg_color=000000&amp;opacity=100&amp;_version=00_09_000 4x\"/>\n",
       " </div>,\n",
       " <div class=\"product-image__img product-image__img--main\">\n",
       " <img class=\"product-image__img product-image__img--product product-image__img-main\" onload=\"this.classList.add('product-image__img-main--show');\" src=\"https://store.playstation.com/store/api/chihiro/00_09_000/container/IN/en/999/EP0002-CUSA24267_00-CODCWULTIMATE001/1602809035000/image?w=124&amp;h=124&amp;bg_color=000000&amp;opacity=100&amp;_version=00_09_000\" srcset=\"https://store.playstation.com/store/api/chihiro/00_09_000/container/IN/en/999/EP0002-CUSA24267_00-CODCWULTIMATE001/1602809035000/image?w=186&amp;h=186&amp;bg_color=000000&amp;opacity=100&amp;_version=00_09_000 1.5x, https://store.playstation.com/store/api/chihiro/00_09_000/container/IN/en/999/EP0002-CUSA24267_00-CODCWULTIMATE001/1602809035000/image?w=248&amp;h=248&amp;bg_color=000000&amp;opacity=100&amp;_version=00_09_000 2x, https://store.playstation.com/store/api/chihiro/00_09_000/container/IN/en/999/EP0002-CUSA24267_00-CODCWULTIMATE001/1602809035000/image?w=372&amp;h=372&amp;bg_color=000000&amp;opacity=100&amp;_version=00_09_000 3x, https://store.playstation.com/store/api/chihiro/00_09_000/container/IN/en/999/EP0002-CUSA24267_00-CODCWULTIMATE001/1602809035000/image?w=496&amp;h=496&amp;bg_color=000000&amp;opacity=100&amp;_version=00_09_000 4x\"/>\n",
       " </div>,\n",
       " <div class=\"product-image__img product-image__img--main\">\n",
       " <img class=\"product-image__img product-image__img--product product-image__img-main\" onload=\"this.classList.add('product-image__img-main--show');\" src=\"https://store.playstation.com/store/api/chihiro/00_09_000/container/IN/en/999/EP0082-CUSA18879_00-KHMOM00000000000/1602227225000/image?w=124&amp;h=124&amp;bg_color=000000&amp;opacity=100&amp;_version=00_09_000\" srcset=\"https://store.playstation.com/store/api/chihiro/00_09_000/container/IN/en/999/EP0082-CUSA18879_00-KHMOM00000000000/1602227225000/image?w=186&amp;h=186&amp;bg_color=000000&amp;opacity=100&amp;_version=00_09_000 1.5x, https://store.playstation.com/store/api/chihiro/00_09_000/container/IN/en/999/EP0082-CUSA18879_00-KHMOM00000000000/1602227225000/image?w=248&amp;h=248&amp;bg_color=000000&amp;opacity=100&amp;_version=00_09_000 2x, https://store.playstation.com/store/api/chihiro/00_09_000/container/IN/en/999/EP0082-CUSA18879_00-KHMOM00000000000/1602227225000/image?w=372&amp;h=372&amp;bg_color=000000&amp;opacity=100&amp;_version=00_09_000 3x, https://store.playstation.com/store/api/chihiro/00_09_000/container/IN/en/999/EP0082-CUSA18879_00-KHMOM00000000000/1602227225000/image?w=496&amp;h=496&amp;bg_color=000000&amp;opacity=100&amp;_version=00_09_000 4x\"/>\n",
       " </div>,\n",
       " <div class=\"product-image__img product-image__img--main\">\n",
       " <img class=\"product-image__img product-image__img--product product-image__img-main\" onload=\"this.classList.add('product-image__img-main--show');\" src=\"https://store.playstation.com/store/api/chihiro/00_09_000/container/IN/en/999/EP9000-CUSA17776_00-MARVELSSMMORALES/1602881587000/image?w=124&amp;h=124&amp;bg_color=000000&amp;opacity=100&amp;_version=00_09_000\" srcset=\"https://store.playstation.com/store/api/chihiro/00_09_000/container/IN/en/999/EP9000-CUSA17776_00-MARVELSSMMORALES/1602881587000/image?w=186&amp;h=186&amp;bg_color=000000&amp;opacity=100&amp;_version=00_09_000 1.5x, https://store.playstation.com/store/api/chihiro/00_09_000/container/IN/en/999/EP9000-CUSA17776_00-MARVELSSMMORALES/1602881587000/image?w=248&amp;h=248&amp;bg_color=000000&amp;opacity=100&amp;_version=00_09_000 2x, https://store.playstation.com/store/api/chihiro/00_09_000/container/IN/en/999/EP9000-CUSA17776_00-MARVELSSMMORALES/1602881587000/image?w=372&amp;h=372&amp;bg_color=000000&amp;opacity=100&amp;_version=00_09_000 3x, https://store.playstation.com/store/api/chihiro/00_09_000/container/IN/en/999/EP9000-CUSA17776_00-MARVELSSMMORALES/1602881587000/image?w=496&amp;h=496&amp;bg_color=000000&amp;opacity=100&amp;_version=00_09_000 4x\"/>\n",
       " </div>,\n",
       " <div class=\"product-image__img product-image__img--main\">\n",
       " <img class=\"product-image__img product-image__img--product product-image__img-main\" onload=\"this.classList.add('product-image__img-main--show');\" src=\"https://store.playstation.com/store/api/chihiro/00_09_000/container/IN/en/999/EP9000-CUSA06313_00-SACKBOYADVENTURE/1602870121000/image?w=124&amp;h=124&amp;bg_color=000000&amp;opacity=100&amp;_version=00_09_000\" srcset=\"https://store.playstation.com/store/api/chihiro/00_09_000/container/IN/en/999/EP9000-CUSA06313_00-SACKBOYADVENTURE/1602870121000/image?w=186&amp;h=186&amp;bg_color=000000&amp;opacity=100&amp;_version=00_09_000 1.5x, https://store.playstation.com/store/api/chihiro/00_09_000/container/IN/en/999/EP9000-CUSA06313_00-SACKBOYADVENTURE/1602870121000/image?w=248&amp;h=248&amp;bg_color=000000&amp;opacity=100&amp;_version=00_09_000 2x, https://store.playstation.com/store/api/chihiro/00_09_000/container/IN/en/999/EP9000-CUSA06313_00-SACKBOYADVENTURE/1602870121000/image?w=372&amp;h=372&amp;bg_color=000000&amp;opacity=100&amp;_version=00_09_000 3x, https://store.playstation.com/store/api/chihiro/00_09_000/container/IN/en/999/EP9000-CUSA06313_00-SACKBOYADVENTURE/1602870121000/image?w=496&amp;h=496&amp;bg_color=000000&amp;opacity=100&amp;_version=00_09_000 4x\"/>\n",
       " </div>,\n",
       " <div class=\"product-image__img product-image__img--main\">\n",
       " <img class=\"product-image__img product-image__img--product product-image__img-main\" onload=\"this.classList.add('product-image__img-main--show');\" src=\"https://store.playstation.com/store/api/chihiro/00_09_000/container/IN/en/999/EP9000-CUSA06313_00-DIGITALDELUXE001/1601865821000/image?w=124&amp;h=124&amp;bg_color=000000&amp;opacity=100&amp;_version=00_09_000\" srcset=\"https://store.playstation.com/store/api/chihiro/00_09_000/container/IN/en/999/EP9000-CUSA06313_00-DIGITALDELUXE001/1601865821000/image?w=186&amp;h=186&amp;bg_color=000000&amp;opacity=100&amp;_version=00_09_000 1.5x, https://store.playstation.com/store/api/chihiro/00_09_000/container/IN/en/999/EP9000-CUSA06313_00-DIGITALDELUXE001/1601865821000/image?w=248&amp;h=248&amp;bg_color=000000&amp;opacity=100&amp;_version=00_09_000 2x, https://store.playstation.com/store/api/chihiro/00_09_000/container/IN/en/999/EP9000-CUSA06313_00-DIGITALDELUXE001/1601865821000/image?w=372&amp;h=372&amp;bg_color=000000&amp;opacity=100&amp;_version=00_09_000 3x, https://store.playstation.com/store/api/chihiro/00_09_000/container/IN/en/999/EP9000-CUSA06313_00-DIGITALDELUXE001/1601865821000/image?w=496&amp;h=496&amp;bg_color=000000&amp;opacity=100&amp;_version=00_09_000 4x\"/>\n",
       " </div>,\n",
       " <div class=\"product-image__img product-image__img--main\">\n",
       " <img class=\"product-image__img product-image__img--product product-image__img-main\" onload=\"this.classList.add('product-image__img-main--show');\" src=\"https://store.playstation.com/store/api/chihiro/00_09_000/container/IN/en/999/EP0001-CUSA18534_00-EDITIONSTANDARD0/1602517831000/image?w=124&amp;h=124&amp;bg_color=000000&amp;opacity=100&amp;_version=00_09_000\" srcset=\"https://store.playstation.com/store/api/chihiro/00_09_000/container/IN/en/999/EP0001-CUSA18534_00-EDITIONSTANDARD0/1602517831000/image?w=186&amp;h=186&amp;bg_color=000000&amp;opacity=100&amp;_version=00_09_000 1.5x, https://store.playstation.com/store/api/chihiro/00_09_000/container/IN/en/999/EP0001-CUSA18534_00-EDITIONSTANDARD0/1602517831000/image?w=248&amp;h=248&amp;bg_color=000000&amp;opacity=100&amp;_version=00_09_000 2x, https://store.playstation.com/store/api/chihiro/00_09_000/container/IN/en/999/EP0001-CUSA18534_00-EDITIONSTANDARD0/1602517831000/image?w=372&amp;h=372&amp;bg_color=000000&amp;opacity=100&amp;_version=00_09_000 3x, https://store.playstation.com/store/api/chihiro/00_09_000/container/IN/en/999/EP0001-CUSA18534_00-EDITIONSTANDARD0/1602517831000/image?w=496&amp;h=496&amp;bg_color=000000&amp;opacity=100&amp;_version=00_09_000 4x\"/>\n",
       " </div>]"
      ]
     },
     "execution_count": 9,
     "metadata": {},
     "output_type": "execute_result"
    }
   ],
   "source": [
    "all_images"
   ]
  },
  {
   "cell_type": "markdown",
   "metadata": {},
   "source": [
    "<img src='src.png'>"
   ]
  },
  {
   "cell_type": "code",
   "execution_count": 10,
   "metadata": {},
   "outputs": [
    {
     "data": {
      "text/plain": [
       "<img class=\"product-image__img product-image__img--product product-image__img-main\" onload=\"this.classList.add('product-image__img-main--show');\" src=\"https://store.playstation.com/store/api/chihiro/00_09_000/container/IN/en/999/EP0082-CUSA18742_00-0000000000000000/1600956898000/image?w=124&amp;h=124&amp;bg_color=000000&amp;opacity=100&amp;_version=00_09_000\" srcset=\"https://store.playstation.com/store/api/chihiro/00_09_000/container/IN/en/999/EP0082-CUSA18742_00-0000000000000000/1600956898000/image?w=186&amp;h=186&amp;bg_color=000000&amp;opacity=100&amp;_version=00_09_000 1.5x, https://store.playstation.com/store/api/chihiro/00_09_000/container/IN/en/999/EP0082-CUSA18742_00-0000000000000000/1600956898000/image?w=248&amp;h=248&amp;bg_color=000000&amp;opacity=100&amp;_version=00_09_000 2x, https://store.playstation.com/store/api/chihiro/00_09_000/container/IN/en/999/EP0082-CUSA18742_00-0000000000000000/1600956898000/image?w=372&amp;h=372&amp;bg_color=000000&amp;opacity=100&amp;_version=00_09_000 3x, https://store.playstation.com/store/api/chihiro/00_09_000/container/IN/en/999/EP0082-CUSA18742_00-0000000000000000/1600956898000/image?w=496&amp;h=496&amp;bg_color=000000&amp;opacity=100&amp;_version=00_09_000 4x\"/>"
      ]
     },
     "execution_count": 10,
     "metadata": {},
     "output_type": "execute_result"
    }
   ],
   "source": [
    "# get the first html element from the list and find the img tag\n",
    "all_images[0].find('img')"
   ]
  },
  {
   "cell_type": "code",
   "execution_count": 11,
   "metadata": {},
   "outputs": [
    {
     "data": {
      "text/plain": [
       "'https://store.playstation.com/store/api/chihiro/00_09_000/container/IN/en/999/EP0082-CUSA18742_00-0000000000000000/1600956898000/image?w=124&h=124&bg_color=000000&opacity=100&_version=00_09_000'"
      ]
     },
     "execution_count": 11,
     "metadata": {},
     "output_type": "execute_result"
    }
   ],
   "source": [
    "# get the image source link from the first html element\n",
    "all_images[0].find('img').attrs.get('src')"
   ]
  },
  {
   "cell_type": "code",
   "execution_count": 12,
   "metadata": {},
   "outputs": [],
   "source": [
    "# write a for loop that appends the image source link from each html element from images list into the new list 'urls'\n",
    "urls = []\n",
    "for index in range(len(all_images)):\n",
    "    urls.append(all_images[index].find('img').attrs.get('src'))"
   ]
  },
  {
   "cell_type": "code",
   "execution_count": 13,
   "metadata": {},
   "outputs": [
    {
     "data": {
      "text/plain": [
       "['https://store.playstation.com/store/api/chihiro/00_09_000/container/IN/en/999/EP0082-CUSA18742_00-0000000000000000/1600956898000/image?w=124&h=124&bg_color=000000&opacity=100&_version=00_09_000',\n",
       " 'https://store.playstation.com/store/api/chihiro/00_09_000/container/IN/en/999/EP0082-CUSA24813_00-BALANWWE00000001/1600820607000/image?w=124&h=124&bg_color=000000&opacity=100&_version=00_09_000',\n",
       " 'https://store.playstation.com/store/api/chihiro/00_09_000/container/IN/en/999/EP0001-CUSA19394_00-MADSTANDARTED000/1600126823000/image?w=124&h=124&bg_color=000000&opacity=100&_version=00_09_000',\n",
       " 'https://store.playstation.com/store/api/chihiro/00_09_000/container/IN/en/999/EP0001-CUSA19394_00-MADGOLDED0000000/1600132073000/image?w=124&h=124&bg_color=000000&opacity=100&_version=00_09_000',\n",
       " 'https://store.playstation.com/store/api/chihiro/00_09_000/container/IN/en/999/EP0001-CUSA19394_00-MADULTIMATEED000/1600128431000/image?w=124&h=124&bg_color=000000&opacity=100&_version=00_09_000']"
      ]
     },
     "execution_count": 13,
     "metadata": {},
     "output_type": "execute_result"
    }
   ],
   "source": [
    "# show the first 5 elements of the list\n",
    "urls[0:5]"
   ]
  },
  {
   "cell_type": "markdown",
   "metadata": {},
   "source": [
    "## Extract The Game Title"
   ]
  },
  {
   "cell_type": "markdown",
   "metadata": {},
   "source": [
    "<img src='title.png'>"
   ]
  },
  {
   "cell_type": "code",
   "execution_count": 14,
   "metadata": {},
   "outputs": [
    {
     "data": {
      "text/plain": [
       "30"
      ]
     },
     "execution_count": 14,
     "metadata": {},
     "output_type": "execute_result"
    }
   ],
   "source": [
    "# find_all() searches for the all the tags where the class is found and \n",
    "# returns a list of all the occurences \n",
    "# find all the titles from the page\n",
    "#grid-cell__title \n",
    "all_titles = soup.findAll(class_ = \"grid-cell__title\")\n",
    "\n",
    "# find the length of the elements extracted\n",
    "len(all_titles)"
   ]
  },
  {
   "cell_type": "code",
   "execution_count": 15,
   "metadata": {},
   "outputs": [],
   "source": [
    "# an empty list to hold the titles\n",
    "titles = []\n",
    "for t in all_titles:\n",
    "    titles.append(t.text)"
   ]
  },
  {
   "cell_type": "code",
   "execution_count": 16,
   "metadata": {},
   "outputs": [
    {
     "data": {
      "text/plain": [
       "['\\nNieR Replicant\\xa0ver.1.22474487139…\\n',\n",
       " '\\nBALAN WONDERWORLD\\n',\n",
       " '\\nRiders Republic™\\n',\n",
       " '\\nRiders Republic™ Gold Edition\\n',\n",
       " '\\nRiders Republic™ Ultimate Edition\\n']"
      ]
     },
     "execution_count": 16,
     "metadata": {},
     "output_type": "execute_result"
    }
   ],
   "source": [
    "titles[0:5]"
   ]
  },
  {
   "cell_type": "code",
   "execution_count": 17,
   "metadata": {},
   "outputs": [],
   "source": [
    "# write a for loop that appends the title from each html element into the new list\n"
   ]
  },
  {
   "cell_type": "markdown",
   "metadata": {},
   "source": [
    "## Extract the Gaming Console Type"
   ]
  },
  {
   "cell_type": "markdown",
   "metadata": {},
   "source": [
    "<img src='left.png'>"
   ]
  },
  {
   "cell_type": "code",
   "execution_count": 18,
   "metadata": {},
   "outputs": [
    {
     "data": {
      "text/plain": [
       "30"
      ]
     },
     "execution_count": 18,
     "metadata": {},
     "output_type": "execute_result"
    }
   ],
   "source": [
    "# find_all() searches for the all the tags where the class is found and \n",
    "# returns a list of all the occurences \n",
    "# find all the details like device and content_type from the page\n",
    "#grid-cell__left-detail grid-cell__left-detail--detail-2  :content\n",
    "#grid-cell__left-detail grid-cell__left-detail--detail-1  :console\n",
    "\n",
    "detail_1 = soup.findAll(class_ = \"grid-cell__left-detail grid-cell__left-detail--detail-1\")\n",
    "detail_2 = soup.findAll(class_ = \"grid-cell__left-detail grid-cell__left-detail--detail-2\")\n",
    "\n",
    "# find the length of the elements extracted\n",
    "len(detail_2)"
   ]
  },
  {
   "cell_type": "code",
   "execution_count": 19,
   "metadata": {},
   "outputs": [
    {
     "data": {
      "text/plain": [
       "'PS4'"
      ]
     },
     "execution_count": 19,
     "metadata": {},
     "output_type": "execute_result"
    }
   ],
   "source": [
    "# get the text from the first element\n",
    "detail_1[0].text"
   ]
  },
  {
   "cell_type": "code",
   "execution_count": 20,
   "metadata": {},
   "outputs": [
    {
     "data": {
      "text/plain": [
       "'Full Game'"
      ]
     },
     "execution_count": 20,
     "metadata": {},
     "output_type": "execute_result"
    }
   ],
   "source": [
    "# get the text from the first element\n",
    "detail_2[0].text"
   ]
  },
  {
   "cell_type": "code",
   "execution_count": 21,
   "metadata": {},
   "outputs": [],
   "source": [
    "# an empty list to hold the console names\n",
    "device = []\n",
    "content_type = []\n",
    "\n",
    "# write a for loop that appends the device and content_type from each html element into the new list\n",
    "for index in range(len(detail_1)):\n",
    "    device.append(detail_1[index].text)\n",
    "    content_type.append(detail_2[index].text)\n",
    "\n"
   ]
  },
  {
   "cell_type": "markdown",
   "metadata": {},
   "source": [
    "## Extract the Price of the Game"
   ]
  },
  {
   "cell_type": "markdown",
   "metadata": {},
   "source": [
    "<img src='price.png'>"
   ]
  },
  {
   "cell_type": "code",
   "execution_count": 22,
   "metadata": {},
   "outputs": [
    {
     "data": {
      "text/plain": [
       "30"
      ]
     },
     "execution_count": 22,
     "metadata": {},
     "output_type": "execute_result"
    }
   ],
   "source": [
    "# find_all() searches for the all the tags where the class is found and \n",
    "# returns a list of all the occurences \n",
    "#price-display__price\n",
    "all_prices = soup.findAll(class_ = 'price-display__price')\n",
    "\n",
    "# find the length of the elements extracted\n",
    "len(all_prices)"
   ]
  },
  {
   "cell_type": "code",
   "execution_count": 23,
   "metadata": {},
   "outputs": [
    {
     "data": {
      "text/plain": [
       "'Rs\\xa03,499'"
      ]
     },
     "execution_count": 23,
     "metadata": {},
     "output_type": "execute_result"
    }
   ],
   "source": [
    "# get the text from the first element\n",
    "all_prices[0].text"
   ]
  },
  {
   "cell_type": "code",
   "execution_count": 24,
   "metadata": {},
   "outputs": [],
   "source": [
    "# an empty list to hold the prices\n",
    "prices = []"
   ]
  },
  {
   "cell_type": "code",
   "execution_count": 25,
   "metadata": {},
   "outputs": [],
   "source": [
    "for price in all_prices:\n",
    "    prices.append(price.text)"
   ]
  },
  {
   "cell_type": "code",
   "execution_count": 26,
   "metadata": {},
   "outputs": [
    {
     "data": {
      "text/plain": [
       "['Rs\\xa03,499', 'Rs\\xa03,499', 'Rs\\xa03,999', 'Rs\\xa06,499', 'Rs\\xa07,149']"
      ]
     },
     "execution_count": 26,
     "metadata": {},
     "output_type": "execute_result"
    }
   ],
   "source": [
    "prices[:5]"
   ]
  },
  {
   "cell_type": "markdown",
   "metadata": {},
   "source": [
    "# Extract The Links for Each Game"
   ]
  },
  {
   "cell_type": "code",
   "execution_count": 27,
   "metadata": {},
   "outputs": [
    {
     "data": {
      "text/plain": [
       "30"
      ]
     },
     "execution_count": 27,
     "metadata": {},
     "output_type": "execute_result"
    }
   ],
   "source": [
    "all_links = soup.find_all(class_=\"grid-cell grid-cell--game\")\n",
    "len(all_links)\n"
   ]
  },
  {
   "cell_type": "code",
   "execution_count": 28,
   "metadata": {
    "scrolled": true
   },
   "outputs": [
    {
     "data": {
      "text/plain": [
       "['https://store.playstation.com//en-in/product/EP0082-CUSA18742_00-0000000000000000',\n",
       " 'https://store.playstation.com//en-in/product/EP0082-CUSA24813_00-BALANWWE00000001',\n",
       " 'https://store.playstation.com//en-in/product/EP0001-CUSA19394_00-MADSTANDARTED000',\n",
       " 'https://store.playstation.com//en-in/product/EP0001-CUSA19394_00-MADGOLDED0000000',\n",
       " 'https://store.playstation.com//en-in/product/EP0001-CUSA19394_00-MADULTIMATEED000',\n",
       " 'https://store.playstation.com//en-in/product/EP0001-CUSA15778_00-FC6EDITIONGOLD00',\n",
       " 'https://store.playstation.com//en-in/product/EP0001-CUSA15778_00-FC6EDSTANDARD000',\n",
       " 'https://store.playstation.com//en-in/product/EP0001-CUSA15778_00-FC6EDULTIMATE000',\n",
       " 'https://store.playstation.com//en-in/product/EP0082-CUSA07371_00-OUTRIDERS0000000',\n",
       " 'https://store.playstation.com//en-in/product/EP0001-CUSA18532_00-POPSOTREMAKE2020',\n",
       " 'https://store.playstation.com//en-in/product/EP3969-CUSA18210_00-0000000H3PREDELX',\n",
       " 'https://store.playstation.com//en-in/product/EP3969-CUSA18210_00-00000H3PRESTANDA',\n",
       " 'https://store.playstation.com//en-in/product/EP0082-CUSA19120_00-0000000000000000',\n",
       " 'https://store.playstation.com//en-in/product/EP0001-CUSA16345_00-GAME000000000000',\n",
       " 'https://store.playstation.com//en-in/product/EP0001-CUSA16345_00-EDITIONGOLD00000',\n",
       " 'https://store.playstation.com//en-in/product/EP4139-CUSA17732_00-EOSDELUXEPREEU01',\n",
       " 'https://store.playstation.com//en-in/product/EP4139-CUSA17732_00-EOSPREMIUMPREEU1',\n",
       " 'https://store.playstation.com//en-in/product/EP4139-CUSA17732_00-EOSSTANDARDPREEU',\n",
       " 'https://store.playstation.com//en-in/product/EP4492-CUSA17052_00-SAKUNA0000000000',\n",
       " 'https://store.playstation.com//en-in/product/EP4492-CUSA17052_00-SAKUNADELUXE0000',\n",
       " 'https://store.playstation.com//en-in/product/EP4497-CUSA16579_00-0000000000000001',\n",
       " 'https://store.playstation.com//en-in/product/EP1018-CUSA11379_00-MK11ULTIMATEKOLL',\n",
       " 'https://store.playstation.com//en-in/product/EP0002-CUSA24267_00-CODCWCROSSGEN001',\n",
       " 'https://store.playstation.com//en-in/product/EP0002-CUSA24267_00-CODCWSTANDARD001',\n",
       " 'https://store.playstation.com//en-in/product/EP0002-CUSA24267_00-CODCWULTIMATE001',\n",
       " 'https://store.playstation.com//en-in/product/EP0082-CUSA18879_00-KHMOM00000000000',\n",
       " 'https://store.playstation.com//en-in/product/EP9000-CUSA17776_00-MARVELSSMMORALES',\n",
       " 'https://store.playstation.com//en-in/product/EP9000-CUSA06313_00-SACKBOYADVENTURE',\n",
       " 'https://store.playstation.com//en-in/product/EP9000-CUSA06313_00-DIGITALDELUXE001',\n",
       " 'https://store.playstation.com//en-in/product/EP0001-CUSA18534_00-EDITIONSTANDARD0']"
      ]
     },
     "execution_count": 28,
     "metadata": {},
     "output_type": "execute_result"
    }
   ],
   "source": [
    "links = []\n",
    "\n",
    "for i in all_links:\n",
    "    link = i.findAll('a' , class_ = 'internal-app-link ember-view')\n",
    "    links.append(\"https://store.playstation.com/\"+link[0].get('href'))\n",
    "    \n",
    "links"
   ]
  },
  {
   "cell_type": "code",
   "execution_count": 29,
   "metadata": {},
   "outputs": [],
   "source": [
    "#https://store.playstation.com/\n"
   ]
  },
  {
   "cell_type": "markdown",
   "metadata": {},
   "source": [
    "# Complete Code To Sail Through All The Pages"
   ]
  },
  {
   "cell_type": "markdown",
   "metadata": {},
   "source": [
    "#### Get the total pages required to parse"
   ]
  },
  {
   "cell_type": "code",
   "execution_count": 30,
   "metadata": {},
   "outputs": [],
   "source": [
    "# extract the page as a whole\n",
    "\n",
    "# parse the whole page using a html parser\n",
    "# soup"
   ]
  },
  {
   "cell_type": "code",
   "execution_count": 31,
   "metadata": {},
   "outputs": [],
   "source": [
    "# find_all() searches for the all the tags where the class \"gallery-mosaic-asset__figure\" is found and \n",
    "# returns a list of all the occurences \n",
    "\n",
    "\n",
    "\n",
    "\n",
    "# find the length of the elements extracted\n"
   ]
  },
  {
   "cell_type": "markdown",
   "metadata": {},
   "source": [
    "### Let's construct a complete code"
   ]
  },
  {
   "cell_type": "markdown",
   "metadata": {},
   "source": [
    "# NOTE: Take the price filtered page"
   ]
  },
  {
   "cell_type": "code",
   "execution_count": 5,
   "metadata": {
    "scrolled": false
   },
   "outputs": [
    {
     "name": "stdout",
     "output_type": "stream",
     "text": [
      "Page 1 scraped\n",
      "Page 2 scraped\n",
      "Page 3 scraped\n",
      "Page 4 scraped\n",
      "Page 5 scraped\n",
      "Page 6 scraped\n",
      "Page 7 scraped\n",
      "Page 8 scraped\n",
      "Page 9 scraped\n"
     ]
    }
   ],
   "source": [
    "# an empty list to hold the urls\n",
    "urls = []\n",
    "# an empty list to hold the titles\n",
    "titles = []\n",
    "# an empty list to hold the console names\n",
    "content_type = []\n",
    "# an empty list to hold the device names\n",
    "device = []\n",
    "# an empty list to hold the prices\n",
    "prices = []\n",
    "# an empty list to hold the links\n",
    "links = []\n",
    "\n",
    "for page_number in range(1, 10):\n",
    "    # extract the page as a whole\n",
    "    page = requests.get('https://store.playstation.com/en-in/grid/STORE-MSF75508-FULLGAMES/{}?price=0-99%2C100-149%2C150-249%2C250-499%2C750-1499%2C500-749%2C1500-1999%2C2000-2499%2C2500-*'.format(page_number), allow_redirects = False)\n",
    "    # parse the whole page using a html parser\n",
    "    soup = BeautifulSoup(page.content, 'html.parser')\n",
    "    ########################################################################\n",
    "    # GET THE GAME TITLES\n",
    "    ########################################################################\n",
    "    all_titles = soup.findAll(class_ = \"grid-cell__title\")\n",
    "\n",
    "   \n",
    "    for t in all_titles:\n",
    "        titles.append(t.text)\n",
    "\n",
    "\n",
    "\n",
    "\n",
    "\n",
    "    ########################################################################\n",
    "\n",
    "\n",
    "    ########################################################################\n",
    "    # GET THE GAMING CONSOLE TYPE\n",
    "    ########################################################################\n",
    "    detail_1 = soup.findAll(class_ = \"grid-cell__left-detail grid-cell__left-detail--detail-1\")\n",
    "    detail_2 = soup.findAll(class_ = \"grid-cell__left-detail grid-cell__left-detail--detail-2\")\n",
    "\n",
    "    for index in range(len(detail_1)):\n",
    "        device.append(detail_1[index].text)\n",
    "        content_type.append(detail_2[index].text)\n",
    "\n",
    "    \n",
    "    \n",
    "    \n",
    "    \n",
    "    \n",
    "    \n",
    "    ########################################################################\n",
    "\n",
    "\n",
    "    ########################################################################\n",
    "    # GET THE PRICES\n",
    "    ########################################################################\n",
    "    \n",
    "    all_prices = soup.findAll(class_ = 'price-display__price')\n",
    "    for price in all_prices:\n",
    "        prices.append(price.text)\n",
    "    \n",
    "    \n",
    "\n",
    "    ########################################################################\n",
    "\n",
    "\n",
    "    ########################################################################\n",
    "    # GET THE GAME IMAGES URL\n",
    "    ########################################################################\n",
    "    \n",
    "    \n",
    "    all_images = soup.findAll(class_=\"product-image__img product-image__img--main\")\n",
    "\n",
    "    # write a for loop that appends the image source link from each html element from all_cases into the list 'urls'\n",
    "    for index in range(len(all_images)):\n",
    "        urls.append(all_images[index].find(\"img\").attrs.get(\"src\"))\n",
    "    \n",
    "    \n",
    "    \n",
    "    \n",
    "\n",
    "    ########################################################################\n",
    "    \n",
    "    \n",
    "    ########################################################################\n",
    "    # GET THE LINKS\n",
    "    ########################################################################\n",
    "    all_links = soup.find_all(class_=\"grid-cell grid-cell--game\")\n",
    "\n",
    "    for i in all_links:\n",
    "        link = i.findAll('a' , class_ = 'internal-app-link ember-view')\n",
    "        links.append(\"https://store.playstation.com/\"+link[0].get('href'))\n",
    "    \n",
    "     \n",
    "    print(\"Page {} scraped\".format(page_number))\n",
    "    \n",
    "    \n",
    "    "
   ]
  },
  {
   "cell_type": "code",
   "execution_count": 8,
   "metadata": {},
   "outputs": [
    {
     "data": {
      "text/plain": [
       "180"
      ]
     },
     "execution_count": 8,
     "metadata": {},
     "output_type": "execute_result"
    }
   ],
   "source": [
    "len(prices)"
   ]
  },
  {
   "cell_type": "code",
   "execution_count": 7,
   "metadata": {},
   "outputs": [
    {
     "data": {
      "text/plain": [
       "180"
      ]
     },
     "execution_count": 7,
     "metadata": {},
     "output_type": "execute_result"
    }
   ],
   "source": [
    "len(device)"
   ]
  },
  {
   "cell_type": "code",
   "execution_count": 54,
   "metadata": {},
   "outputs": [
    {
     "data": {
      "text/plain": [
       "120"
      ]
     },
     "execution_count": 54,
     "metadata": {},
     "output_type": "execute_result"
    }
   ],
   "source": [
    "len(content_type)"
   ]
  },
  {
   "cell_type": "code",
   "execution_count": 55,
   "metadata": {},
   "outputs": [
    {
     "data": {
      "text/plain": [
       "120"
      ]
     },
     "execution_count": 55,
     "metadata": {},
     "output_type": "execute_result"
    }
   ],
   "source": [
    "len(links)"
   ]
  },
  {
   "cell_type": "code",
   "execution_count": 56,
   "metadata": {},
   "outputs": [],
   "source": [
    "# create a dataframe using the above lists\n",
    "df_playstation = pd.DataFrame({'Title': titles, \n",
    "                               'Content_Type': content_type,\n",
    "                               'Device': device,\n",
    "                               'Price': prices, \n",
    "                               'Image_URL': urls,\n",
    "                               'Links': links})"
   ]
  },
  {
   "cell_type": "code",
   "execution_count": 57,
   "metadata": {},
   "outputs": [
    {
     "data": {
      "text/html": [
       "<div>\n",
       "<style scoped>\n",
       "    .dataframe tbody tr th:only-of-type {\n",
       "        vertical-align: middle;\n",
       "    }\n",
       "\n",
       "    .dataframe tbody tr th {\n",
       "        vertical-align: top;\n",
       "    }\n",
       "\n",
       "    .dataframe thead th {\n",
       "        text-align: right;\n",
       "    }\n",
       "</style>\n",
       "<table border=\"1\" class=\"dataframe\">\n",
       "  <thead>\n",
       "    <tr style=\"text-align: right;\">\n",
       "      <th></th>\n",
       "      <th>Title</th>\n",
       "      <th>Content_Type</th>\n",
       "      <th>Device</th>\n",
       "      <th>Price</th>\n",
       "      <th>Image_URL</th>\n",
       "      <th>Links</th>\n",
       "    </tr>\n",
       "  </thead>\n",
       "  <tbody>\n",
       "    <tr>\n",
       "      <th>0</th>\n",
       "      <td>\\nNieR Replicant ver.1.22474487139…\\n</td>\n",
       "      <td>Full Game</td>\n",
       "      <td>PS4</td>\n",
       "      <td>Rs 3,499</td>\n",
       "      <td>https://store.playstation.com/store/api/chihir...</td>\n",
       "      <td>https://store.playstation.com//en-in/product/E...</td>\n",
       "    </tr>\n",
       "    <tr>\n",
       "      <th>1</th>\n",
       "      <td>\\nBALAN WONDERWORLD\\n</td>\n",
       "      <td>Full Game</td>\n",
       "      <td>PS4</td>\n",
       "      <td>Rs 3,499</td>\n",
       "      <td>https://store.playstation.com/store/api/chihir...</td>\n",
       "      <td>https://store.playstation.com//en-in/product/E...</td>\n",
       "    </tr>\n",
       "    <tr>\n",
       "      <th>2</th>\n",
       "      <td>\\nRiders Republic™\\n</td>\n",
       "      <td>Bundle</td>\n",
       "      <td>PS4</td>\n",
       "      <td>Rs 3,999</td>\n",
       "      <td>https://store.playstation.com/store/api/chihir...</td>\n",
       "      <td>https://store.playstation.com//en-in/product/E...</td>\n",
       "    </tr>\n",
       "    <tr>\n",
       "      <th>3</th>\n",
       "      <td>\\nRiders Republic™ Gold Edition\\n</td>\n",
       "      <td>Bundle</td>\n",
       "      <td>PS4</td>\n",
       "      <td>Rs 6,499</td>\n",
       "      <td>https://store.playstation.com/store/api/chihir...</td>\n",
       "      <td>https://store.playstation.com//en-in/product/E...</td>\n",
       "    </tr>\n",
       "    <tr>\n",
       "      <th>4</th>\n",
       "      <td>\\nRiders Republic™ Ultimate Edition\\n</td>\n",
       "      <td>Bundle</td>\n",
       "      <td>PS4</td>\n",
       "      <td>Rs 7,149</td>\n",
       "      <td>https://store.playstation.com/store/api/chihir...</td>\n",
       "      <td>https://store.playstation.com//en-in/product/E...</td>\n",
       "    </tr>\n",
       "  </tbody>\n",
       "</table>\n",
       "</div>"
      ],
      "text/plain": [
       "                                   Title Content_Type Device     Price  \\\n",
       "0  \\nNieR Replicant ver.1.22474487139…\\n    Full Game    PS4  Rs 3,499   \n",
       "1                  \\nBALAN WONDERWORLD\\n    Full Game    PS4  Rs 3,499   \n",
       "2                   \\nRiders Republic™\\n       Bundle    PS4  Rs 3,999   \n",
       "3      \\nRiders Republic™ Gold Edition\\n       Bundle    PS4  Rs 6,499   \n",
       "4  \\nRiders Republic™ Ultimate Edition\\n       Bundle    PS4  Rs 7,149   \n",
       "\n",
       "                                           Image_URL  \\\n",
       "0  https://store.playstation.com/store/api/chihir...   \n",
       "1  https://store.playstation.com/store/api/chihir...   \n",
       "2  https://store.playstation.com/store/api/chihir...   \n",
       "3  https://store.playstation.com/store/api/chihir...   \n",
       "4  https://store.playstation.com/store/api/chihir...   \n",
       "\n",
       "                                               Links  \n",
       "0  https://store.playstation.com//en-in/product/E...  \n",
       "1  https://store.playstation.com//en-in/product/E...  \n",
       "2  https://store.playstation.com//en-in/product/E...  \n",
       "3  https://store.playstation.com//en-in/product/E...  \n",
       "4  https://store.playstation.com//en-in/product/E...  "
      ]
     },
     "execution_count": 57,
     "metadata": {},
     "output_type": "execute_result"
    }
   ],
   "source": [
    "# display the first 5 observations\n",
    "df_playstation.head()"
   ]
  },
  {
   "cell_type": "code",
   "execution_count": 58,
   "metadata": {},
   "outputs": [],
   "source": [
    "# clean the column 'Title'\n",
    "df_playstation.Title = df_playstation.Title.str.replace('\\n', '')"
   ]
  },
  {
   "cell_type": "code",
   "execution_count": 59,
   "metadata": {},
   "outputs": [],
   "source": [
    "# clean the column 'Price'\n",
    "df_playstation.Price = df_playstation.Price.str.replace('Rs', '')\n",
    "df_playstation.Price = df_playstation.Price.str.replace(',','')\n",
    "df_playstation.Price = df_playstation.Price.str.strip()"
   ]
  },
  {
   "cell_type": "code",
   "execution_count": 60,
   "metadata": {},
   "outputs": [
    {
     "data": {
      "text/html": [
       "<div>\n",
       "<style scoped>\n",
       "    .dataframe tbody tr th:only-of-type {\n",
       "        vertical-align: middle;\n",
       "    }\n",
       "\n",
       "    .dataframe tbody tr th {\n",
       "        vertical-align: top;\n",
       "    }\n",
       "\n",
       "    .dataframe thead th {\n",
       "        text-align: right;\n",
       "    }\n",
       "</style>\n",
       "<table border=\"1\" class=\"dataframe\">\n",
       "  <thead>\n",
       "    <tr style=\"text-align: right;\">\n",
       "      <th></th>\n",
       "      <th>Title</th>\n",
       "      <th>Content_Type</th>\n",
       "      <th>Device</th>\n",
       "      <th>Price</th>\n",
       "      <th>Image_URL</th>\n",
       "      <th>Links</th>\n",
       "    </tr>\n",
       "  </thead>\n",
       "  <tbody>\n",
       "    <tr>\n",
       "      <th>0</th>\n",
       "      <td>NieR Replicant ver.1.22474487139…</td>\n",
       "      <td>Full Game</td>\n",
       "      <td>PS4</td>\n",
       "      <td>3499</td>\n",
       "      <td>https://store.playstation.com/store/api/chihir...</td>\n",
       "      <td>https://store.playstation.com//en-in/product/E...</td>\n",
       "    </tr>\n",
       "    <tr>\n",
       "      <th>1</th>\n",
       "      <td>BALAN WONDERWORLD</td>\n",
       "      <td>Full Game</td>\n",
       "      <td>PS4</td>\n",
       "      <td>3499</td>\n",
       "      <td>https://store.playstation.com/store/api/chihir...</td>\n",
       "      <td>https://store.playstation.com//en-in/product/E...</td>\n",
       "    </tr>\n",
       "    <tr>\n",
       "      <th>2</th>\n",
       "      <td>Riders Republic™</td>\n",
       "      <td>Bundle</td>\n",
       "      <td>PS4</td>\n",
       "      <td>3999</td>\n",
       "      <td>https://store.playstation.com/store/api/chihir...</td>\n",
       "      <td>https://store.playstation.com//en-in/product/E...</td>\n",
       "    </tr>\n",
       "    <tr>\n",
       "      <th>3</th>\n",
       "      <td>Riders Republic™ Gold Edition</td>\n",
       "      <td>Bundle</td>\n",
       "      <td>PS4</td>\n",
       "      <td>6499</td>\n",
       "      <td>https://store.playstation.com/store/api/chihir...</td>\n",
       "      <td>https://store.playstation.com//en-in/product/E...</td>\n",
       "    </tr>\n",
       "    <tr>\n",
       "      <th>4</th>\n",
       "      <td>Riders Republic™ Ultimate Edition</td>\n",
       "      <td>Bundle</td>\n",
       "      <td>PS4</td>\n",
       "      <td>7149</td>\n",
       "      <td>https://store.playstation.com/store/api/chihir...</td>\n",
       "      <td>https://store.playstation.com//en-in/product/E...</td>\n",
       "    </tr>\n",
       "  </tbody>\n",
       "</table>\n",
       "</div>"
      ],
      "text/plain": [
       "                               Title Content_Type Device Price  \\\n",
       "0  NieR Replicant ver.1.22474487139…    Full Game    PS4  3499   \n",
       "1                  BALAN WONDERWORLD    Full Game    PS4  3499   \n",
       "2                   Riders Republic™       Bundle    PS4  3999   \n",
       "3      Riders Republic™ Gold Edition       Bundle    PS4  6499   \n",
       "4  Riders Republic™ Ultimate Edition       Bundle    PS4  7149   \n",
       "\n",
       "                                           Image_URL  \\\n",
       "0  https://store.playstation.com/store/api/chihir...   \n",
       "1  https://store.playstation.com/store/api/chihir...   \n",
       "2  https://store.playstation.com/store/api/chihir...   \n",
       "3  https://store.playstation.com/store/api/chihir...   \n",
       "4  https://store.playstation.com/store/api/chihir...   \n",
       "\n",
       "                                               Links  \n",
       "0  https://store.playstation.com//en-in/product/E...  \n",
       "1  https://store.playstation.com//en-in/product/E...  \n",
       "2  https://store.playstation.com//en-in/product/E...  \n",
       "3  https://store.playstation.com//en-in/product/E...  \n",
       "4  https://store.playstation.com//en-in/product/E...  "
      ]
     },
     "execution_count": 60,
     "metadata": {},
     "output_type": "execute_result"
    }
   ],
   "source": [
    "# display the first 5 observations\n",
    "df_playstation.head()"
   ]
  },
  {
   "cell_type": "code",
   "execution_count": 61,
   "metadata": {
    "scrolled": true
   },
   "outputs": [
    {
     "data": {
      "text/plain": [
       "'https://store.playstation.com//en-in/product/EP0082-CUSA18742_00-0000000000000000'"
      ]
     },
     "execution_count": 61,
     "metadata": {},
     "output_type": "execute_result"
    }
   ],
   "source": [
    "# print the link\n",
    "df_playstation.Links[0]"
   ]
  },
  {
   "cell_type": "markdown",
   "metadata": {},
   "source": [
    "# Get the ratings"
   ]
  },
  {
   "cell_type": "code",
   "execution_count": 62,
   "metadata": {},
   "outputs": [],
   "source": [
    "from tqdm import tqdm"
   ]
  },
  {
   "cell_type": "code",
   "execution_count": 67,
   "metadata": {
    "scrolled": true
   },
   "outputs": [
    {
     "name": "stderr",
     "output_type": "stream",
     "text": [
      "  1%|▋                                                                                 | 1/120 [00:00<00:28,  4.11it/s]"
     ]
    },
    {
     "name": "stdout",
     "output_type": "stream",
     "text": [
      "\n",
      "                  14 Ratings\n",
      "                \n"
     ]
    },
    {
     "name": "stderr",
     "output_type": "stream",
     "text": [
      "\r",
      "  2%|█▎                                                                                | 2/120 [00:00<00:29,  4.04it/s]"
     ]
    },
    {
     "name": "stdout",
     "output_type": "stream",
     "text": [
      "\n",
      "                  1 Ratings\n",
      "                \n"
     ]
    },
    {
     "name": "stderr",
     "output_type": "stream",
     "text": [
      "\r",
      "  2%|██                                                                                | 3/120 [00:00<00:30,  3.82it/s]"
     ]
    },
    {
     "name": "stdout",
     "output_type": "stream",
     "text": [
      "\n",
      "                  5 Ratings\n",
      "                \n"
     ]
    },
    {
     "name": "stderr",
     "output_type": "stream",
     "text": [
      "\r",
      "  3%|██▋                                                                               | 4/120 [00:01<00:28,  4.02it/s]"
     ]
    },
    {
     "name": "stdout",
     "output_type": "stream",
     "text": [
      "\n",
      "                  1 Ratings\n",
      "                \n"
     ]
    },
    {
     "name": "stderr",
     "output_type": "stream",
     "text": [
      "\r",
      "  4%|███▍                                                                              | 5/120 [00:01<00:28,  4.06it/s]"
     ]
    },
    {
     "name": "stdout",
     "output_type": "stream",
     "text": [
      "\n",
      "                  3 Ratings\n",
      "                \n"
     ]
    },
    {
     "name": "stderr",
     "output_type": "stream",
     "text": [
      "\r",
      "  5%|████                                                                              | 6/120 [00:01<00:26,  4.23it/s]"
     ]
    },
    {
     "name": "stdout",
     "output_type": "stream",
     "text": [
      "\n",
      "                  3 Ratings\n",
      "                \n"
     ]
    },
    {
     "name": "stderr",
     "output_type": "stream",
     "text": [
      "\r",
      "  6%|████▊                                                                             | 7/120 [00:01<00:26,  4.34it/s]"
     ]
    },
    {
     "name": "stdout",
     "output_type": "stream",
     "text": [
      "\n",
      "                  20 Ratings\n",
      "                \n"
     ]
    },
    {
     "name": "stderr",
     "output_type": "stream",
     "text": [
      "\r",
      "  7%|█████▍                                                                            | 8/120 [00:01<00:25,  4.45it/s]"
     ]
    },
    {
     "name": "stdout",
     "output_type": "stream",
     "text": [
      "\n",
      "                  21 Ratings\n",
      "                \n"
     ]
    },
    {
     "name": "stderr",
     "output_type": "stream",
     "text": [
      "  8%|██████▊                                                                          | 10/120 [00:02<00:25,  4.31it/s]"
     ]
    },
    {
     "name": "stdout",
     "output_type": "stream",
     "text": [
      "\n",
      "                  30 Ratings\n",
      "                \n"
     ]
    },
    {
     "name": "stderr",
     "output_type": "stream",
     "text": [
      "\r",
      "  9%|███████▍                                                                         | 11/120 [00:02<00:29,  3.65it/s]"
     ]
    },
    {
     "name": "stdout",
     "output_type": "stream",
     "text": [
      "\n",
      "                  53 Ratings\n",
      "                \n"
     ]
    },
    {
     "name": "stderr",
     "output_type": "stream",
     "text": [
      "\r",
      " 10%|████████                                                                         | 12/120 [00:02<00:28,  3.76it/s]"
     ]
    },
    {
     "name": "stdout",
     "output_type": "stream",
     "text": [
      "\n",
      "                  13 Ratings\n",
      "                \n"
     ]
    },
    {
     "name": "stderr",
     "output_type": "stream",
     "text": [
      "\r",
      " 11%|████████▊                                                                        | 13/120 [00:03<00:28,  3.80it/s]"
     ]
    },
    {
     "name": "stdout",
     "output_type": "stream",
     "text": [
      "\n",
      "                  6 Ratings\n",
      "                \n"
     ]
    },
    {
     "name": "stderr",
     "output_type": "stream",
     "text": [
      "\r",
      " 12%|█████████▍                                                                       | 14/120 [00:03<00:26,  4.02it/s]"
     ]
    },
    {
     "name": "stdout",
     "output_type": "stream",
     "text": [
      "\n",
      "                  3 Ratings\n",
      "                \n"
     ]
    },
    {
     "name": "stderr",
     "output_type": "stream",
     "text": [
      "\r",
      " 12%|██████████▏                                                                      | 15/120 [00:03<00:25,  4.16it/s]"
     ]
    },
    {
     "name": "stdout",
     "output_type": "stream",
     "text": [
      "\n",
      "                  4 Ratings\n",
      "                \n"
     ]
    },
    {
     "name": "stderr",
     "output_type": "stream",
     "text": [
      "\r",
      " 13%|██████████▊                                                                      | 16/120 [00:03<00:25,  4.13it/s]"
     ]
    },
    {
     "name": "stdout",
     "output_type": "stream",
     "text": [
      "\n",
      "                  1 Ratings\n",
      "                \n"
     ]
    },
    {
     "name": "stderr",
     "output_type": "stream",
     "text": [
      "\r",
      " 14%|███████████▍                                                                     | 17/120 [00:04<00:23,  4.31it/s]"
     ]
    },
    {
     "name": "stdout",
     "output_type": "stream",
     "text": [
      "\n",
      "                  1 Ratings\n",
      "                \n"
     ]
    },
    {
     "name": "stderr",
     "output_type": "stream",
     "text": [
      " 16%|████████████▊                                                                    | 19/120 [00:04<00:23,  4.28it/s]"
     ]
    },
    {
     "name": "stdout",
     "output_type": "stream",
     "text": [
      "\n",
      "                  1 Ratings\n",
      "                \n"
     ]
    },
    {
     "name": "stderr",
     "output_type": "stream",
     "text": [
      " 18%|██████████████▏                                                                  | 21/120 [00:05<00:22,  4.39it/s]"
     ]
    },
    {
     "name": "stdout",
     "output_type": "stream",
     "text": [
      "\n",
      "                  305 Ratings\n",
      "                \n"
     ]
    },
    {
     "name": "stderr",
     "output_type": "stream",
     "text": [
      "\r",
      " 18%|██████████████▊                                                                  | 22/120 [00:05<00:22,  4.35it/s]"
     ]
    },
    {
     "name": "stdout",
     "output_type": "stream",
     "text": [
      "\n",
      "                  6 Ratings\n",
      "                \n"
     ]
    },
    {
     "name": "stderr",
     "output_type": "stream",
     "text": [
      "\r",
      " 19%|███████████████▌                                                                 | 23/120 [00:05<00:22,  4.31it/s]"
     ]
    },
    {
     "name": "stdout",
     "output_type": "stream",
     "text": [
      "\n",
      "                  833 Ratings\n",
      "                \n"
     ]
    },
    {
     "name": "stderr",
     "output_type": "stream",
     "text": [
      "\r",
      " 20%|████████████████▏                                                                | 24/120 [00:05<00:22,  4.30it/s]"
     ]
    },
    {
     "name": "stdout",
     "output_type": "stream",
     "text": [
      "\n",
      "                  439 Ratings\n",
      "                \n"
     ]
    },
    {
     "name": "stderr",
     "output_type": "stream",
     "text": [
      "\r",
      " 21%|████████████████▉                                                                | 25/120 [00:05<00:21,  4.36it/s]"
     ]
    },
    {
     "name": "stdout",
     "output_type": "stream",
     "text": [
      "\n",
      "                  816 Ratings\n",
      "                \n"
     ]
    },
    {
     "name": "stderr",
     "output_type": "stream",
     "text": [
      "\r",
      " 22%|█████████████████▌                                                               | 26/120 [00:06<00:23,  4.07it/s]"
     ]
    },
    {
     "name": "stdout",
     "output_type": "stream",
     "text": [
      "\n",
      "                  86 Ratings\n",
      "                \n"
     ]
    },
    {
     "name": "stderr",
     "output_type": "stream",
     "text": [
      "\r",
      " 22%|██████████████████▏                                                              | 27/120 [00:06<00:22,  4.19it/s]"
     ]
    },
    {
     "name": "stdout",
     "output_type": "stream",
     "text": [
      "\n",
      "                  109 Ratings\n",
      "                \n"
     ]
    },
    {
     "name": "stderr",
     "output_type": "stream",
     "text": [
      "\r",
      " 23%|██████████████████▉                                                              | 28/120 [00:06<00:23,  3.96it/s]"
     ]
    },
    {
     "name": "stdout",
     "output_type": "stream",
     "text": [
      "\n",
      "                  11 Ratings\n",
      "                \n"
     ]
    },
    {
     "name": "stderr",
     "output_type": "stream",
     "text": [
      "\r",
      " 24%|███████████████████▌                                                             | 29/120 [00:07<00:22,  4.02it/s]"
     ]
    },
    {
     "name": "stdout",
     "output_type": "stream",
     "text": [
      "\n",
      "                  8 Ratings\n",
      "                \n"
     ]
    },
    {
     "name": "stderr",
     "output_type": "stream",
     "text": [
      "\r",
      " 25%|████████████████████▎                                                            | 30/120 [00:07<00:21,  4.17it/s]"
     ]
    },
    {
     "name": "stdout",
     "output_type": "stream",
     "text": [
      "\n",
      "                  165 Ratings\n",
      "                \n"
     ]
    },
    {
     "name": "stderr",
     "output_type": "stream",
     "text": [
      "\r",
      " 26%|████████████████████▉                                                            | 31/120 [00:07<00:21,  4.19it/s]"
     ]
    },
    {
     "name": "stdout",
     "output_type": "stream",
     "text": [
      "\n",
      "                  220 Ratings\n",
      "                \n"
     ]
    },
    {
     "name": "stderr",
     "output_type": "stream",
     "text": [
      "\r",
      " 27%|█████████████████████▌                                                           | 32/120 [00:07<00:20,  4.21it/s]"
     ]
    },
    {
     "name": "stdout",
     "output_type": "stream",
     "text": [
      "\n",
      "                  2 Ratings\n",
      "                \n"
     ]
    },
    {
     "name": "stderr",
     "output_type": "stream",
     "text": [
      "\r",
      " 28%|██████████████████████▎                                                          | 33/120 [00:07<00:20,  4.28it/s]"
     ]
    },
    {
     "name": "stdout",
     "output_type": "stream",
     "text": [
      "\n",
      "                  1 Ratings\n",
      "                \n"
     ]
    },
    {
     "name": "stderr",
     "output_type": "stream",
     "text": [
      "\r",
      " 28%|██████████████████████▉                                                          | 34/120 [00:08<00:20,  4.29it/s]"
     ]
    },
    {
     "name": "stdout",
     "output_type": "stream",
     "text": [
      "\n",
      "                  6 Ratings\n",
      "                \n"
     ]
    },
    {
     "name": "stderr",
     "output_type": "stream",
     "text": [
      "\r",
      " 29%|███████████████████████▋                                                         | 35/120 [00:08<00:20,  4.12it/s]"
     ]
    },
    {
     "name": "stdout",
     "output_type": "stream",
     "text": [
      "\n",
      "                  33 Ratings\n",
      "                \n"
     ]
    },
    {
     "name": "stderr",
     "output_type": "stream",
     "text": [
      "\r",
      " 30%|████████████████████████▎                                                        | 36/120 [00:08<00:22,  3.81it/s]"
     ]
    },
    {
     "name": "stdout",
     "output_type": "stream",
     "text": [
      "\n",
      "                  7 Ratings\n",
      "                \n"
     ]
    },
    {
     "name": "stderr",
     "output_type": "stream",
     "text": [
      "\r",
      " 31%|████████████████████████▉                                                        | 37/120 [00:08<00:21,  3.88it/s]"
     ]
    },
    {
     "name": "stdout",
     "output_type": "stream",
     "text": [
      "\n",
      "                  5 Ratings\n",
      "                \n"
     ]
    },
    {
     "name": "stderr",
     "output_type": "stream",
     "text": [
      " 32%|██████████████████████████▎                                                      | 39/120 [00:09<00:19,  4.21it/s]"
     ]
    },
    {
     "name": "stdout",
     "output_type": "stream",
     "text": [
      "\n",
      "                  23 Ratings\n",
      "                \n",
      "\n",
      "                  87 Ratings\n",
      "                \n"
     ]
    },
    {
     "name": "stderr",
     "output_type": "stream",
     "text": [
      "\r",
      " 33%|███████████████████████████                                                      | 40/120 [00:09<00:19,  4.14it/s]"
     ]
    },
    {
     "name": "stdout",
     "output_type": "stream",
     "text": [
      "\n",
      "                  6 Ratings\n",
      "                \n"
     ]
    },
    {
     "name": "stderr",
     "output_type": "stream",
     "text": [
      "\r",
      " 34%|███████████████████████████▋                                                     | 41/120 [00:09<00:18,  4.22it/s]"
     ]
    },
    {
     "name": "stdout",
     "output_type": "stream",
     "text": [
      "\n",
      "                  9 Ratings\n",
      "                \n"
     ]
    },
    {
     "name": "stderr",
     "output_type": "stream",
     "text": [
      "\r",
      " 35%|████████████████████████████▎                                                    | 42/120 [00:10<00:18,  4.12it/s]"
     ]
    },
    {
     "name": "stdout",
     "output_type": "stream",
     "text": [
      "\n",
      "                  4 Ratings\n",
      "                \n"
     ]
    },
    {
     "name": "stderr",
     "output_type": "stream",
     "text": [
      "\r",
      " 36%|█████████████████████████████                                                    | 43/120 [00:10<00:18,  4.21it/s]"
     ]
    },
    {
     "name": "stdout",
     "output_type": "stream",
     "text": [
      "\n",
      "                  86 Ratings\n",
      "                \n"
     ]
    },
    {
     "name": "stderr",
     "output_type": "stream",
     "text": [
      "\r",
      " 37%|█████████████████████████████▋                                                   | 44/120 [00:10<00:17,  4.32it/s]"
     ]
    },
    {
     "name": "stdout",
     "output_type": "stream",
     "text": [
      "\n",
      "                  11 Ratings\n",
      "                \n"
     ]
    },
    {
     "name": "stderr",
     "output_type": "stream",
     "text": [
      "\r",
      " 38%|██████████████████████████████▍                                                  | 45/120 [00:10<00:18,  4.03it/s]"
     ]
    },
    {
     "name": "stdout",
     "output_type": "stream",
     "text": [
      "\n",
      "                  46 Ratings\n",
      "                \n"
     ]
    },
    {
     "name": "stderr",
     "output_type": "stream",
     "text": [
      "\r",
      " 38%|███████████████████████████████                                                  | 46/120 [00:11<00:18,  4.00it/s]"
     ]
    },
    {
     "name": "stdout",
     "output_type": "stream",
     "text": [
      "\n",
      "                  235 Ratings\n",
      "                \n"
     ]
    },
    {
     "name": "stderr",
     "output_type": "stream",
     "text": [
      "\r",
      " 39%|███████████████████████████████▋                                                 | 47/120 [00:11<00:18,  3.94it/s]"
     ]
    },
    {
     "name": "stdout",
     "output_type": "stream",
     "text": [
      "\n",
      "                  158 Ratings\n",
      "                \n"
     ]
    },
    {
     "name": "stderr",
     "output_type": "stream",
     "text": [
      " 41%|█████████████████████████████████                                                | 49/120 [00:11<00:17,  4.16it/s]"
     ]
    },
    {
     "name": "stdout",
     "output_type": "stream",
     "text": [
      "\n",
      "                  66 Ratings\n",
      "                \n"
     ]
    },
    {
     "name": "stderr",
     "output_type": "stream",
     "text": [
      "\r",
      " 42%|█████████████████████████████████▊                                               | 50/120 [00:12<00:17,  4.03it/s]"
     ]
    },
    {
     "name": "stdout",
     "output_type": "stream",
     "text": [
      "\n",
      "                  78 Ratings\n",
      "                \n"
     ]
    },
    {
     "name": "stderr",
     "output_type": "stream",
     "text": [
      "\r",
      " 42%|██████████████████████████████████▍                                              | 51/120 [00:12<00:16,  4.13it/s]"
     ]
    },
    {
     "name": "stdout",
     "output_type": "stream",
     "text": [
      "\n",
      "                  1 Ratings\n",
      "                \n"
     ]
    },
    {
     "name": "stderr",
     "output_type": "stream",
     "text": [
      "\r",
      " 43%|███████████████████████████████████                                              | 52/120 [00:12<00:16,  4.03it/s]"
     ]
    },
    {
     "name": "stdout",
     "output_type": "stream",
     "text": [
      "\n",
      "                  2 Ratings\n",
      "                \n"
     ]
    },
    {
     "name": "stderr",
     "output_type": "stream",
     "text": [
      "\r",
      " 44%|███████████████████████████████████▊                                             | 53/120 [00:12<00:17,  3.84it/s]"
     ]
    },
    {
     "name": "stdout",
     "output_type": "stream",
     "text": [
      "\n",
      "                  55 Ratings\n",
      "                \n"
     ]
    },
    {
     "name": "stderr",
     "output_type": "stream",
     "text": [
      " 48%|███████████████████████████████████████▏                                         | 58/120 [00:14<00:15,  4.02it/s]"
     ]
    },
    {
     "name": "stdout",
     "output_type": "stream",
     "text": [
      "\n",
      "                  1 Ratings\n",
      "                \n"
     ]
    },
    {
     "name": "stderr",
     "output_type": "stream",
     "text": [
      "\r",
      " 49%|███████████████████████████████████████▊                                         | 59/120 [00:14<00:15,  4.06it/s]"
     ]
    },
    {
     "name": "stdout",
     "output_type": "stream",
     "text": [
      "\n",
      "                  8 Ratings\n",
      "                \n"
     ]
    },
    {
     "name": "stderr",
     "output_type": "stream",
     "text": [
      "\r",
      " 50%|████████████████████████████████████████▌                                        | 60/120 [00:14<00:14,  4.07it/s]"
     ]
    },
    {
     "name": "stdout",
     "output_type": "stream",
     "text": [
      "\n",
      "                  29 Ratings\n",
      "                \n"
     ]
    },
    {
     "name": "stderr",
     "output_type": "stream",
     "text": [
      "\r",
      " 51%|█████████████████████████████████████████▏                                       | 61/120 [00:14<00:14,  4.19it/s]"
     ]
    },
    {
     "name": "stdout",
     "output_type": "stream",
     "text": [
      "\n",
      "                  78 Ratings\n",
      "                \n"
     ]
    },
    {
     "name": "stderr",
     "output_type": "stream",
     "text": [
      " 54%|███████████████████████████████████████████▉                                     | 65/120 [00:15<00:13,  4.03it/s]"
     ]
    },
    {
     "name": "stdout",
     "output_type": "stream",
     "text": [
      "\n",
      "                  1 Ratings\n",
      "                \n"
     ]
    },
    {
     "name": "stderr",
     "output_type": "stream",
     "text": [
      " 56%|█████████████████████████████████████████████▏                                   | 67/120 [00:16<00:14,  3.54it/s]"
     ]
    },
    {
     "name": "stdout",
     "output_type": "stream",
     "text": [
      "\n",
      "                  1 Ratings\n",
      "                \n"
     ]
    },
    {
     "name": "stderr",
     "output_type": "stream",
     "text": [
      "\r",
      " 57%|█████████████████████████████████████████████▉                                   | 68/120 [00:16<00:14,  3.71it/s]"
     ]
    },
    {
     "name": "stdout",
     "output_type": "stream",
     "text": [
      "\n",
      "                  1 Ratings\n",
      "                \n"
     ]
    },
    {
     "name": "stderr",
     "output_type": "stream",
     "text": [
      "\r",
      " 57%|██████████████████████████████████████████████▌                                  | 69/120 [00:16<00:13,  3.83it/s]"
     ]
    },
    {
     "name": "stdout",
     "output_type": "stream",
     "text": [
      "\n",
      "                  9 Ratings\n",
      "                \n"
     ]
    },
    {
     "name": "stderr",
     "output_type": "stream",
     "text": [
      "\r",
      " 58%|███████████████████████████████████████████████▎                                 | 70/120 [00:17<00:12,  3.98it/s]"
     ]
    },
    {
     "name": "stdout",
     "output_type": "stream",
     "text": [
      "\n",
      "                  2 Ratings\n",
      "                \n"
     ]
    },
    {
     "name": "stderr",
     "output_type": "stream",
     "text": [
      "\r",
      " 59%|███████████████████████████████████████████████▉                                 | 71/120 [00:17<00:12,  4.05it/s]"
     ]
    },
    {
     "name": "stdout",
     "output_type": "stream",
     "text": [
      "\n",
      "                  16 Ratings\n",
      "                \n"
     ]
    },
    {
     "name": "stderr",
     "output_type": "stream",
     "text": [
      "\r",
      " 60%|████████████████████████████████████████████████▌                                | 72/120 [00:17<00:11,  4.17it/s]"
     ]
    },
    {
     "name": "stdout",
     "output_type": "stream",
     "text": [
      "\n",
      "                  6 Ratings\n",
      "                \n"
     ]
    },
    {
     "name": "stderr",
     "output_type": "stream",
     "text": [
      "\r",
      " 61%|█████████████████████████████████████████████████▎                               | 73/120 [00:17<00:11,  3.92it/s]"
     ]
    },
    {
     "name": "stdout",
     "output_type": "stream",
     "text": [
      "\n",
      "                  1 Ratings\n",
      "                \n"
     ]
    },
    {
     "name": "stderr",
     "output_type": "stream",
     "text": [
      "\r",
      " 62%|█████████████████████████████████████████████████▉                               | 74/120 [00:18<00:12,  3.76it/s]"
     ]
    },
    {
     "name": "stdout",
     "output_type": "stream",
     "text": [
      "\n",
      "                  6 Ratings\n",
      "                \n"
     ]
    },
    {
     "name": "stderr",
     "output_type": "stream",
     "text": [
      "\r",
      " 62%|██████████████████████████████████████████████████▋                              | 75/120 [00:18<00:12,  3.55it/s]"
     ]
    },
    {
     "name": "stdout",
     "output_type": "stream",
     "text": [
      "\n",
      "                  1 Ratings\n",
      "                \n"
     ]
    },
    {
     "name": "stderr",
     "output_type": "stream",
     "text": [
      "\r",
      " 63%|███████████████████████████████████████████████████▎                             | 76/120 [00:18<00:12,  3.58it/s]"
     ]
    },
    {
     "name": "stdout",
     "output_type": "stream",
     "text": [
      "\n",
      "                  1 Ratings\n",
      "                \n"
     ]
    },
    {
     "name": "stderr",
     "output_type": "stream",
     "text": [
      "\r",
      " 64%|███████████████████████████████████████████████████▉                             | 77/120 [00:19<00:12,  3.50it/s]"
     ]
    },
    {
     "name": "stdout",
     "output_type": "stream",
     "text": [
      "\n",
      "                  3 Ratings\n",
      "                \n"
     ]
    },
    {
     "name": "stderr",
     "output_type": "stream",
     "text": [
      "\r",
      " 65%|████████████████████████████████████████████████████▋                            | 78/120 [00:19<00:11,  3.56it/s]"
     ]
    },
    {
     "name": "stdout",
     "output_type": "stream",
     "text": [
      "\n",
      "                  18 Ratings\n",
      "                \n"
     ]
    },
    {
     "name": "stderr",
     "output_type": "stream",
     "text": [
      "\r",
      " 66%|█████████████████████████████████████████████████████▎                           | 79/120 [00:19<00:11,  3.59it/s]"
     ]
    },
    {
     "name": "stdout",
     "output_type": "stream",
     "text": [
      "\n",
      "                  4 Ratings\n",
      "                \n"
     ]
    },
    {
     "name": "stderr",
     "output_type": "stream",
     "text": [
      "\r",
      " 67%|██████████████████████████████████████████████████████                           | 80/120 [00:19<00:11,  3.61it/s]"
     ]
    },
    {
     "name": "stdout",
     "output_type": "stream",
     "text": [
      "\n",
      "                  35 Ratings\n",
      "                \n"
     ]
    },
    {
     "name": "stderr",
     "output_type": "stream",
     "text": [
      "\r",
      " 68%|██████████████████████████████████████████████████████▋                          | 81/120 [00:20<00:10,  3.66it/s]"
     ]
    },
    {
     "name": "stdout",
     "output_type": "stream",
     "text": [
      "\n",
      "                  1 Ratings\n",
      "                \n"
     ]
    },
    {
     "name": "stderr",
     "output_type": "stream",
     "text": [
      "\r",
      " 68%|███████████████████████████████████████████████████████▎                         | 82/120 [00:20<00:10,  3.71it/s]"
     ]
    },
    {
     "name": "stdout",
     "output_type": "stream",
     "text": [
      "\n",
      "                  2 Ratings\n",
      "                \n"
     ]
    },
    {
     "name": "stderr",
     "output_type": "stream",
     "text": [
      "\r",
      " 69%|████████████████████████████████████████████████████████                         | 83/120 [00:20<00:10,  3.60it/s]"
     ]
    },
    {
     "name": "stdout",
     "output_type": "stream",
     "text": [
      "\n",
      "                  11 Ratings\n",
      "                \n"
     ]
    },
    {
     "name": "stderr",
     "output_type": "stream",
     "text": [
      "\r",
      " 70%|████████████████████████████████████████████████████████▋                        | 84/120 [00:21<00:10,  3.60it/s]"
     ]
    },
    {
     "name": "stdout",
     "output_type": "stream",
     "text": [
      "\n",
      "                  2 Ratings\n",
      "                \n"
     ]
    },
    {
     "name": "stderr",
     "output_type": "stream",
     "text": [
      "\r",
      " 71%|█████████████████████████████████████████████████████████▍                       | 85/120 [00:21<00:09,  3.58it/s]"
     ]
    },
    {
     "name": "stdout",
     "output_type": "stream",
     "text": [
      "\n",
      "                  3 Ratings\n",
      "                \n"
     ]
    },
    {
     "name": "stderr",
     "output_type": "stream",
     "text": [
      " 72%|██████████████████████████████████████████████████████████▋                      | 87/120 [00:21<00:09,  3.36it/s]"
     ]
    },
    {
     "name": "stdout",
     "output_type": "stream",
     "text": [
      "\n",
      "                  2 Ratings\n",
      "                \n"
     ]
    },
    {
     "name": "stderr",
     "output_type": "stream",
     "text": [
      "\r",
      " 73%|███████████████████████████████████████████████████████████▍                     | 88/120 [00:22<00:10,  2.95it/s]"
     ]
    },
    {
     "name": "stdout",
     "output_type": "stream",
     "text": [
      "\n",
      "                  12 Ratings\n",
      "                \n"
     ]
    },
    {
     "name": "stderr",
     "output_type": "stream",
     "text": [
      "\r",
      " 74%|████████████████████████████████████████████████████████████                     | 89/120 [00:22<00:11,  2.74it/s]"
     ]
    },
    {
     "name": "stdout",
     "output_type": "stream",
     "text": [
      "\n",
      "                  1 Ratings\n",
      "                \n"
     ]
    },
    {
     "name": "stderr",
     "output_type": "stream",
     "text": [
      "\r",
      " 75%|████████████████████████████████████████████████████████████▊                    | 90/120 [00:23<00:10,  2.78it/s]"
     ]
    },
    {
     "name": "stdout",
     "output_type": "stream",
     "text": [
      "\n",
      "                  1 Ratings\n",
      "                \n"
     ]
    },
    {
     "name": "stderr",
     "output_type": "stream",
     "text": [
      "\r",
      " 76%|█████████████████████████████████████████████████████████████▍                   | 91/120 [00:23<00:09,  3.10it/s]"
     ]
    },
    {
     "name": "stdout",
     "output_type": "stream",
     "text": [
      "\n",
      "                  28 Ratings\n",
      "                \n"
     ]
    },
    {
     "name": "stderr",
     "output_type": "stream",
     "text": [
      " 78%|██████████████████████████████████████████████████████████████▊                  | 93/120 [00:23<00:07,  3.79it/s]"
     ]
    },
    {
     "name": "stdout",
     "output_type": "stream",
     "text": [
      "\n",
      "                  11 Ratings\n",
      "                \n",
      "\n",
      "                  7 Ratings\n",
      "                \n"
     ]
    },
    {
     "name": "stderr",
     "output_type": "stream",
     "text": [
      "\r",
      " 78%|███████████████████████████████████████████████████████████████▍                 | 94/120 [00:24<00:06,  4.09it/s]"
     ]
    },
    {
     "name": "stdout",
     "output_type": "stream",
     "text": [
      "\n",
      "                  5 Ratings\n",
      "                \n"
     ]
    },
    {
     "name": "stderr",
     "output_type": "stream",
     "text": [
      "\r",
      " 79%|████████████████████████████████████████████████████████████████▏                | 95/120 [00:24<00:07,  3.40it/s]"
     ]
    },
    {
     "name": "stdout",
     "output_type": "stream",
     "text": [
      "\n",
      "                  100 Ratings\n",
      "                \n"
     ]
    },
    {
     "name": "stderr",
     "output_type": "stream",
     "text": [
      "\r",
      " 80%|████████████████████████████████████████████████████████████████▊                | 96/120 [00:24<00:06,  3.74it/s]"
     ]
    },
    {
     "name": "stdout",
     "output_type": "stream",
     "text": [
      "\n",
      "                  4 Ratings\n",
      "                \n"
     ]
    },
    {
     "name": "stderr",
     "output_type": "stream",
     "text": [
      "\r",
      " 81%|█████████████████████████████████████████████████████████████████▍               | 97/120 [00:24<00:05,  3.96it/s]"
     ]
    },
    {
     "name": "stdout",
     "output_type": "stream",
     "text": [
      "\n",
      "                  10 Ratings\n",
      "                \n"
     ]
    },
    {
     "name": "stderr",
     "output_type": "stream",
     "text": [
      "\r",
      " 82%|██████████████████████████████████████████████████████████████████▏              | 98/120 [00:25<00:05,  4.14it/s]"
     ]
    },
    {
     "name": "stdout",
     "output_type": "stream",
     "text": [
      "\n",
      "                  2 Ratings\n",
      "                \n"
     ]
    },
    {
     "name": "stderr",
     "output_type": "stream",
     "text": [
      "\r",
      " 82%|██████████████████████████████████████████████████████████████████▊              | 99/120 [00:25<00:04,  4.32it/s]"
     ]
    },
    {
     "name": "stdout",
     "output_type": "stream",
     "text": [
      "\n",
      "                  5 Ratings\n",
      "                \n",
      "\n",
      "                  3 Ratings\n",
      "                "
     ]
    },
    {
     "name": "stderr",
     "output_type": "stream",
     "text": [
      "\r",
      " 83%|██████████████████████████████████████████████████████████████████▋             | 100/120 [00:25<00:04,  4.49it/s]"
     ]
    },
    {
     "name": "stdout",
     "output_type": "stream",
     "text": [
      "\n"
     ]
    },
    {
     "name": "stderr",
     "output_type": "stream",
     "text": [
      "\r",
      " 84%|███████████████████████████████████████████████████████████████████▎            | 101/120 [00:25<00:04,  4.48it/s]"
     ]
    },
    {
     "name": "stdout",
     "output_type": "stream",
     "text": [
      "\n",
      "                  4 Ratings\n",
      "                \n"
     ]
    },
    {
     "name": "stderr",
     "output_type": "stream",
     "text": [
      "\r",
      " 85%|████████████████████████████████████████████████████████████████████            | 102/120 [00:25<00:04,  4.31it/s]"
     ]
    },
    {
     "name": "stdout",
     "output_type": "stream",
     "text": [
      "\n",
      "                  69 Ratings\n",
      "                \n"
     ]
    },
    {
     "name": "stderr",
     "output_type": "stream",
     "text": [
      " 87%|█████████████████████████████████████████████████████████████████████▎          | 104/120 [00:26<00:03,  4.50it/s]"
     ]
    },
    {
     "name": "stdout",
     "output_type": "stream",
     "text": [
      "\n",
      "                  1 Ratings\n",
      "                \n"
     ]
    },
    {
     "name": "stderr",
     "output_type": "stream",
     "text": [
      "\r",
      " 88%|██████████████████████████████████████████████████████████████████████          | 105/120 [00:26<00:03,  4.53it/s]"
     ]
    },
    {
     "name": "stdout",
     "output_type": "stream",
     "text": [
      "\n",
      "                  16 Ratings\n",
      "                \n"
     ]
    },
    {
     "name": "stderr",
     "output_type": "stream",
     "text": [
      "\r",
      " 88%|██████████████████████████████████████████████████████████████████████▋         | 106/120 [00:26<00:02,  4.67it/s]"
     ]
    },
    {
     "name": "stdout",
     "output_type": "stream",
     "text": [
      "\n",
      "                  73 Ratings\n",
      "                \n"
     ]
    },
    {
     "name": "stderr",
     "output_type": "stream",
     "text": [
      "\r",
      " 89%|███████████████████████████████████████████████████████████████████████▎        | 107/120 [00:27<00:02,  4.72it/s]"
     ]
    },
    {
     "name": "stdout",
     "output_type": "stream",
     "text": [
      "\n",
      "                  15 Ratings\n",
      "                \n"
     ]
    },
    {
     "name": "stderr",
     "output_type": "stream",
     "text": [
      "\r",
      " 90%|████████████████████████████████████████████████████████████████████████        | 108/120 [00:27<00:02,  4.76it/s]"
     ]
    },
    {
     "name": "stdout",
     "output_type": "stream",
     "text": [
      "\n",
      "                  15 Ratings\n",
      "                \n"
     ]
    },
    {
     "name": "stderr",
     "output_type": "stream",
     "text": [
      " 92%|█████████████████████████████████████████████████████████████████████████▎      | 110/120 [00:27<00:03,  3.31it/s]"
     ]
    },
    {
     "name": "stdout",
     "output_type": "stream",
     "text": [
      "\n",
      "                  348 Ratings\n",
      "                \n"
     ]
    },
    {
     "name": "stderr",
     "output_type": "stream",
     "text": [
      " 93%|██████████████████████████████████████████████████████████████████████████▋     | 112/120 [00:28<00:02,  3.94it/s]"
     ]
    },
    {
     "name": "stdout",
     "output_type": "stream",
     "text": [
      "\n",
      "                  7 Ratings\n",
      "                \n"
     ]
    },
    {
     "name": "stderr",
     "output_type": "stream",
     "text": [
      "\r",
      " 94%|███████████████████████████████████████████████████████████████████████████▎    | 113/120 [00:28<00:01,  4.12it/s]"
     ]
    },
    {
     "name": "stdout",
     "output_type": "stream",
     "text": [
      "\n",
      "                  75 Ratings\n",
      "                \n"
     ]
    },
    {
     "name": "stderr",
     "output_type": "stream",
     "text": [
      "\r",
      " 95%|████████████████████████████████████████████████████████████████████████████    | 114/120 [00:28<00:01,  4.33it/s]"
     ]
    },
    {
     "name": "stdout",
     "output_type": "stream",
     "text": [
      "\n",
      "                  24 Ratings\n",
      "                \n"
     ]
    },
    {
     "name": "stderr",
     "output_type": "stream",
     "text": [
      "\r",
      " 96%|████████████████████████████████████████████████████████████████████████████▋   | 115/120 [00:28<00:01,  4.50it/s]"
     ]
    },
    {
     "name": "stdout",
     "output_type": "stream",
     "text": [
      "\n",
      "                  4 Ratings\n",
      "                \n"
     ]
    },
    {
     "name": "stderr",
     "output_type": "stream",
     "text": [
      " 98%|██████████████████████████████████████████████████████████████████████████████▋ | 118/120 [00:29<00:00,  4.29it/s]"
     ]
    },
    {
     "name": "stdout",
     "output_type": "stream",
     "text": [
      "\n",
      "                  2 Ratings\n",
      "                \n"
     ]
    },
    {
     "name": "stderr",
     "output_type": "stream",
     "text": [
      "\r",
      " 99%|███████████████████████████████████████████████████████████████████████████████▎| 119/120 [00:29<00:00,  4.16it/s]"
     ]
    },
    {
     "name": "stdout",
     "output_type": "stream",
     "text": [
      "\n",
      "                  149 Ratings\n",
      "                \n"
     ]
    },
    {
     "name": "stderr",
     "output_type": "stream",
     "text": [
      "100%|████████████████████████████████████████████████████████████████████████████████| 120/120 [00:30<00:00,  3.97it/s]"
     ]
    },
    {
     "name": "stdout",
     "output_type": "stream",
     "text": [
      "\n",
      "                  12 Ratings\n",
      "                \n"
     ]
    },
    {
     "name": "stderr",
     "output_type": "stream",
     "text": [
      "\n"
     ]
    }
   ],
   "source": [
    "# an empty list to hold the ratings\n",
    "ratings = []\n",
    "#provider-info__rating-count\n",
    "\n",
    "\n",
    "for l in tqdm(range(len(links))):\n",
    "    \n",
    "    # extract the page as a whole\n",
    "    page = requests.get(links[l])\n",
    "\n",
    "    # parse the whole page using a html parser\n",
    "    soup = BeautifulSoup(page.content, 'html.parser')\n",
    "\n",
    "    ########################################################################\n",
    "    # GET THE GAME RATINGS\n",
    "    ########################################################################\n",
    "    try:\n",
    "        rats = soup.find(class_=\"provider-info__rating-count\")\n",
    "        print(rats.text)\n",
    "        ratings.append(rats.text)\n",
    "    except:\n",
    "        ratings.append('')"
   ]
  },
  {
   "cell_type": "code",
   "execution_count": 70,
   "metadata": {},
   "outputs": [
    {
     "data": {
      "text/html": [
       "<div>\n",
       "<style scoped>\n",
       "    .dataframe tbody tr th:only-of-type {\n",
       "        vertical-align: middle;\n",
       "    }\n",
       "\n",
       "    .dataframe tbody tr th {\n",
       "        vertical-align: top;\n",
       "    }\n",
       "\n",
       "    .dataframe thead th {\n",
       "        text-align: right;\n",
       "    }\n",
       "</style>\n",
       "<table border=\"1\" class=\"dataframe\">\n",
       "  <thead>\n",
       "    <tr style=\"text-align: right;\">\n",
       "      <th></th>\n",
       "      <th>Title</th>\n",
       "      <th>Content_Type</th>\n",
       "      <th>Device</th>\n",
       "      <th>Price</th>\n",
       "      <th>Image_URL</th>\n",
       "      <th>Links</th>\n",
       "      <th>Ratings</th>\n",
       "    </tr>\n",
       "  </thead>\n",
       "  <tbody>\n",
       "    <tr>\n",
       "      <th>0</th>\n",
       "      <td>NieR Replicant ver.1.22474487139…</td>\n",
       "      <td>Full Game</td>\n",
       "      <td>PS4</td>\n",
       "      <td>3499</td>\n",
       "      <td>https://store.playstation.com/store/api/chihir...</td>\n",
       "      <td>https://store.playstation.com//en-in/product/E...</td>\n",
       "      <td>\\n                  14 Ratings\\n</td>\n",
       "    </tr>\n",
       "    <tr>\n",
       "      <th>1</th>\n",
       "      <td>BALAN WONDERWORLD</td>\n",
       "      <td>Full Game</td>\n",
       "      <td>PS4</td>\n",
       "      <td>3499</td>\n",
       "      <td>https://store.playstation.com/store/api/chihir...</td>\n",
       "      <td>https://store.playstation.com//en-in/product/E...</td>\n",
       "      <td>\\n                  1 Ratings\\n</td>\n",
       "    </tr>\n",
       "    <tr>\n",
       "      <th>2</th>\n",
       "      <td>Riders Republic™</td>\n",
       "      <td>Bundle</td>\n",
       "      <td>PS4</td>\n",
       "      <td>3999</td>\n",
       "      <td>https://store.playstation.com/store/api/chihir...</td>\n",
       "      <td>https://store.playstation.com//en-in/product/E...</td>\n",
       "      <td>\\n                  5 Ratings\\n</td>\n",
       "    </tr>\n",
       "    <tr>\n",
       "      <th>3</th>\n",
       "      <td>Riders Republic™ Gold Edition</td>\n",
       "      <td>Bundle</td>\n",
       "      <td>PS4</td>\n",
       "      <td>6499</td>\n",
       "      <td>https://store.playstation.com/store/api/chihir...</td>\n",
       "      <td>https://store.playstation.com//en-in/product/E...</td>\n",
       "      <td>\\n                  1 Ratings\\n</td>\n",
       "    </tr>\n",
       "    <tr>\n",
       "      <th>4</th>\n",
       "      <td>Riders Republic™ Ultimate Edition</td>\n",
       "      <td>Bundle</td>\n",
       "      <td>PS4</td>\n",
       "      <td>7149</td>\n",
       "      <td>https://store.playstation.com/store/api/chihir...</td>\n",
       "      <td>https://store.playstation.com//en-in/product/E...</td>\n",
       "      <td>\\n                  3 Ratings\\n</td>\n",
       "    </tr>\n",
       "  </tbody>\n",
       "</table>\n",
       "</div>"
      ],
      "text/plain": [
       "                               Title Content_Type Device Price  \\\n",
       "0  NieR Replicant ver.1.22474487139…    Full Game    PS4  3499   \n",
       "1                  BALAN WONDERWORLD    Full Game    PS4  3499   \n",
       "2                   Riders Republic™       Bundle    PS4  3999   \n",
       "3      Riders Republic™ Gold Edition       Bundle    PS4  6499   \n",
       "4  Riders Republic™ Ultimate Edition       Bundle    PS4  7149   \n",
       "\n",
       "                                           Image_URL  \\\n",
       "0  https://store.playstation.com/store/api/chihir...   \n",
       "1  https://store.playstation.com/store/api/chihir...   \n",
       "2  https://store.playstation.com/store/api/chihir...   \n",
       "3  https://store.playstation.com/store/api/chihir...   \n",
       "4  https://store.playstation.com/store/api/chihir...   \n",
       "\n",
       "                                               Links  \\\n",
       "0  https://store.playstation.com//en-in/product/E...   \n",
       "1  https://store.playstation.com//en-in/product/E...   \n",
       "2  https://store.playstation.com//en-in/product/E...   \n",
       "3  https://store.playstation.com//en-in/product/E...   \n",
       "4  https://store.playstation.com//en-in/product/E...   \n",
       "\n",
       "                                            Ratings  \n",
       "0  \\n                  14 Ratings\\n                  \n",
       "1   \\n                  1 Ratings\\n                  \n",
       "2   \\n                  5 Ratings\\n                  \n",
       "3   \\n                  1 Ratings\\n                  \n",
       "4   \\n                  3 Ratings\\n                  "
      ]
     },
     "execution_count": 70,
     "metadata": {},
     "output_type": "execute_result"
    }
   ],
   "source": [
    "df_playstation['Ratings'] = ratings\n",
    "df_playstation.head()"
   ]
  },
  {
   "cell_type": "code",
   "execution_count": 71,
   "metadata": {},
   "outputs": [
    {
     "data": {
      "text/html": [
       "<div>\n",
       "<style scoped>\n",
       "    .dataframe tbody tr th:only-of-type {\n",
       "        vertical-align: middle;\n",
       "    }\n",
       "\n",
       "    .dataframe tbody tr th {\n",
       "        vertical-align: top;\n",
       "    }\n",
       "\n",
       "    .dataframe thead th {\n",
       "        text-align: right;\n",
       "    }\n",
       "</style>\n",
       "<table border=\"1\" class=\"dataframe\">\n",
       "  <thead>\n",
       "    <tr style=\"text-align: right;\">\n",
       "      <th></th>\n",
       "      <th>Title</th>\n",
       "      <th>Content_Type</th>\n",
       "      <th>Device</th>\n",
       "      <th>Price</th>\n",
       "      <th>Image_URL</th>\n",
       "      <th>Links</th>\n",
       "      <th>Ratings</th>\n",
       "    </tr>\n",
       "  </thead>\n",
       "  <tbody>\n",
       "    <tr>\n",
       "      <th>0</th>\n",
       "      <td>NieR Replicant ver.1.22474487139…</td>\n",
       "      <td>Full Game</td>\n",
       "      <td>PS4</td>\n",
       "      <td>3499</td>\n",
       "      <td>https://store.playstation.com/store/api/chihir...</td>\n",
       "      <td>https://store.playstation.com//en-in/product/E...</td>\n",
       "      <td>\\n                  14 Ratings\\n</td>\n",
       "    </tr>\n",
       "    <tr>\n",
       "      <th>1</th>\n",
       "      <td>BALAN WONDERWORLD</td>\n",
       "      <td>Full Game</td>\n",
       "      <td>PS4</td>\n",
       "      <td>3499</td>\n",
       "      <td>https://store.playstation.com/store/api/chihir...</td>\n",
       "      <td>https://store.playstation.com//en-in/product/E...</td>\n",
       "      <td>\\n                  1 Ratings\\n</td>\n",
       "    </tr>\n",
       "    <tr>\n",
       "      <th>2</th>\n",
       "      <td>Riders Republic™</td>\n",
       "      <td>Bundle</td>\n",
       "      <td>PS4</td>\n",
       "      <td>3999</td>\n",
       "      <td>https://store.playstation.com/store/api/chihir...</td>\n",
       "      <td>https://store.playstation.com//en-in/product/E...</td>\n",
       "      <td>\\n                  5 Ratings\\n</td>\n",
       "    </tr>\n",
       "    <tr>\n",
       "      <th>3</th>\n",
       "      <td>Riders Republic™ Gold Edition</td>\n",
       "      <td>Bundle</td>\n",
       "      <td>PS4</td>\n",
       "      <td>6499</td>\n",
       "      <td>https://store.playstation.com/store/api/chihir...</td>\n",
       "      <td>https://store.playstation.com//en-in/product/E...</td>\n",
       "      <td>\\n                  1 Ratings\\n</td>\n",
       "    </tr>\n",
       "    <tr>\n",
       "      <th>4</th>\n",
       "      <td>Riders Republic™ Ultimate Edition</td>\n",
       "      <td>Bundle</td>\n",
       "      <td>PS4</td>\n",
       "      <td>7149</td>\n",
       "      <td>https://store.playstation.com/store/api/chihir...</td>\n",
       "      <td>https://store.playstation.com//en-in/product/E...</td>\n",
       "      <td>\\n                  3 Ratings\\n</td>\n",
       "    </tr>\n",
       "  </tbody>\n",
       "</table>\n",
       "</div>"
      ],
      "text/plain": [
       "                               Title Content_Type Device Price  \\\n",
       "0  NieR Replicant ver.1.22474487139…    Full Game    PS4  3499   \n",
       "1                  BALAN WONDERWORLD    Full Game    PS4  3499   \n",
       "2                   Riders Republic™       Bundle    PS4  3999   \n",
       "3      Riders Republic™ Gold Edition       Bundle    PS4  6499   \n",
       "4  Riders Republic™ Ultimate Edition       Bundle    PS4  7149   \n",
       "\n",
       "                                           Image_URL  \\\n",
       "0  https://store.playstation.com/store/api/chihir...   \n",
       "1  https://store.playstation.com/store/api/chihir...   \n",
       "2  https://store.playstation.com/store/api/chihir...   \n",
       "3  https://store.playstation.com/store/api/chihir...   \n",
       "4  https://store.playstation.com/store/api/chihir...   \n",
       "\n",
       "                                               Links  \\\n",
       "0  https://store.playstation.com//en-in/product/E...   \n",
       "1  https://store.playstation.com//en-in/product/E...   \n",
       "2  https://store.playstation.com//en-in/product/E...   \n",
       "3  https://store.playstation.com//en-in/product/E...   \n",
       "4  https://store.playstation.com//en-in/product/E...   \n",
       "\n",
       "                                            Ratings  \n",
       "0  \\n                  14 Ratings\\n                  \n",
       "1   \\n                  1 Ratings\\n                  \n",
       "2   \\n                  5 Ratings\\n                  \n",
       "3   \\n                  1 Ratings\\n                  \n",
       "4   \\n                  3 Ratings\\n                  "
      ]
     },
     "execution_count": 71,
     "metadata": {},
     "output_type": "execute_result"
    }
   ],
   "source": [
    "# Create a new column Ratings in the dataframe\n",
    "df_playstation['Ratings'] = ratings\n",
    "df_playstation.head()\n"
   ]
  },
  {
   "cell_type": "code",
   "execution_count": 72,
   "metadata": {},
   "outputs": [],
   "source": [
    "# clean the ratings\n",
    "for i in range(df_playstation.shape[0]):\n",
    "    try:\n",
    "        df_playstation['Ratings'][i] = df_playstation['Ratings'][i].replace('\\n','').strip()[0]\n",
    "    except:\n",
    "        df_playstation['Ratings'][i] = ''"
   ]
  },
  {
   "cell_type": "code",
   "execution_count": 73,
   "metadata": {},
   "outputs": [
    {
     "data": {
      "text/html": [
       "<div>\n",
       "<style scoped>\n",
       "    .dataframe tbody tr th:only-of-type {\n",
       "        vertical-align: middle;\n",
       "    }\n",
       "\n",
       "    .dataframe tbody tr th {\n",
       "        vertical-align: top;\n",
       "    }\n",
       "\n",
       "    .dataframe thead th {\n",
       "        text-align: right;\n",
       "    }\n",
       "</style>\n",
       "<table border=\"1\" class=\"dataframe\">\n",
       "  <thead>\n",
       "    <tr style=\"text-align: right;\">\n",
       "      <th></th>\n",
       "      <th>Title</th>\n",
       "      <th>Content_Type</th>\n",
       "      <th>Device</th>\n",
       "      <th>Price</th>\n",
       "      <th>Image_URL</th>\n",
       "      <th>Links</th>\n",
       "      <th>Ratings</th>\n",
       "    </tr>\n",
       "  </thead>\n",
       "  <tbody>\n",
       "    <tr>\n",
       "      <th>0</th>\n",
       "      <td>NieR Replicant ver.1.22474487139…</td>\n",
       "      <td>Full Game</td>\n",
       "      <td>PS4</td>\n",
       "      <td>3499</td>\n",
       "      <td>https://store.playstation.com/store/api/chihir...</td>\n",
       "      <td>https://store.playstation.com//en-in/product/E...</td>\n",
       "      <td>1</td>\n",
       "    </tr>\n",
       "    <tr>\n",
       "      <th>1</th>\n",
       "      <td>BALAN WONDERWORLD</td>\n",
       "      <td>Full Game</td>\n",
       "      <td>PS4</td>\n",
       "      <td>3499</td>\n",
       "      <td>https://store.playstation.com/store/api/chihir...</td>\n",
       "      <td>https://store.playstation.com//en-in/product/E...</td>\n",
       "      <td>1</td>\n",
       "    </tr>\n",
       "    <tr>\n",
       "      <th>2</th>\n",
       "      <td>Riders Republic™</td>\n",
       "      <td>Bundle</td>\n",
       "      <td>PS4</td>\n",
       "      <td>3999</td>\n",
       "      <td>https://store.playstation.com/store/api/chihir...</td>\n",
       "      <td>https://store.playstation.com//en-in/product/E...</td>\n",
       "      <td>5</td>\n",
       "    </tr>\n",
       "    <tr>\n",
       "      <th>3</th>\n",
       "      <td>Riders Republic™ Gold Edition</td>\n",
       "      <td>Bundle</td>\n",
       "      <td>PS4</td>\n",
       "      <td>6499</td>\n",
       "      <td>https://store.playstation.com/store/api/chihir...</td>\n",
       "      <td>https://store.playstation.com//en-in/product/E...</td>\n",
       "      <td>1</td>\n",
       "    </tr>\n",
       "    <tr>\n",
       "      <th>4</th>\n",
       "      <td>Riders Republic™ Ultimate Edition</td>\n",
       "      <td>Bundle</td>\n",
       "      <td>PS4</td>\n",
       "      <td>7149</td>\n",
       "      <td>https://store.playstation.com/store/api/chihir...</td>\n",
       "      <td>https://store.playstation.com//en-in/product/E...</td>\n",
       "      <td>3</td>\n",
       "    </tr>\n",
       "    <tr>\n",
       "      <th>...</th>\n",
       "      <td>...</td>\n",
       "      <td>...</td>\n",
       "      <td>...</td>\n",
       "      <td>...</td>\n",
       "      <td>...</td>\n",
       "      <td>...</td>\n",
       "      <td>...</td>\n",
       "    </tr>\n",
       "    <tr>\n",
       "      <th>115</th>\n",
       "      <td>Mortal Blitz : Combat Arena - Deluxe Edition</td>\n",
       "      <td>Bundle</td>\n",
       "      <td>PS4</td>\n",
       "      <td>2913</td>\n",
       "      <td>https://store.playstation.com/store/api/chihir...</td>\n",
       "      <td>https://store.playstation.com//en-in/product/E...</td>\n",
       "      <td></td>\n",
       "    </tr>\n",
       "    <tr>\n",
       "      <th>116</th>\n",
       "      <td>Arcade Archives BEN BERO BEH</td>\n",
       "      <td>Full Game</td>\n",
       "      <td>PS4</td>\n",
       "      <td>582</td>\n",
       "      <td>https://store.playstation.com/store/api/chihir...</td>\n",
       "      <td>https://store.playstation.com//en-in/product/E...</td>\n",
       "      <td>2</td>\n",
       "    </tr>\n",
       "    <tr>\n",
       "      <th>117</th>\n",
       "      <td>Outbreak: Lost Hope</td>\n",
       "      <td>Full Game</td>\n",
       "      <td>PS4</td>\n",
       "      <td>1082</td>\n",
       "      <td>https://store.playstation.com/store/api/chihir...</td>\n",
       "      <td>https://store.playstation.com//en-in/product/E...</td>\n",
       "      <td></td>\n",
       "    </tr>\n",
       "    <tr>\n",
       "      <th>118</th>\n",
       "      <td>RIDE 4</td>\n",
       "      <td>Full Game</td>\n",
       "      <td>PS4</td>\n",
       "      <td>3999</td>\n",
       "      <td>https://store.playstation.com/store/api/chihir...</td>\n",
       "      <td>https://store.playstation.com//en-in/product/E...</td>\n",
       "      <td>1</td>\n",
       "    </tr>\n",
       "    <tr>\n",
       "      <th>119</th>\n",
       "      <td>Skatemasta Tcheco</td>\n",
       "      <td>Full Game</td>\n",
       "      <td>PS4</td>\n",
       "      <td>415</td>\n",
       "      <td>https://store.playstation.com/store/api/chihir...</td>\n",
       "      <td>https://store.playstation.com//en-in/product/E...</td>\n",
       "      <td>1</td>\n",
       "    </tr>\n",
       "  </tbody>\n",
       "</table>\n",
       "<p>120 rows × 7 columns</p>\n",
       "</div>"
      ],
      "text/plain": [
       "                                            Title Content_Type Device Price  \\\n",
       "0               NieR Replicant ver.1.22474487139…    Full Game    PS4  3499   \n",
       "1                               BALAN WONDERWORLD    Full Game    PS4  3499   \n",
       "2                                Riders Republic™       Bundle    PS4  3999   \n",
       "3                   Riders Republic™ Gold Edition       Bundle    PS4  6499   \n",
       "4               Riders Republic™ Ultimate Edition       Bundle    PS4  7149   \n",
       "..                                            ...          ...    ...   ...   \n",
       "115  Mortal Blitz : Combat Arena - Deluxe Edition       Bundle    PS4  2913   \n",
       "116                  Arcade Archives BEN BERO BEH    Full Game    PS4   582   \n",
       "117                           Outbreak: Lost Hope    Full Game    PS4  1082   \n",
       "118                                        RIDE 4    Full Game    PS4  3999   \n",
       "119                             Skatemasta Tcheco    Full Game    PS4   415   \n",
       "\n",
       "                                             Image_URL  \\\n",
       "0    https://store.playstation.com/store/api/chihir...   \n",
       "1    https://store.playstation.com/store/api/chihir...   \n",
       "2    https://store.playstation.com/store/api/chihir...   \n",
       "3    https://store.playstation.com/store/api/chihir...   \n",
       "4    https://store.playstation.com/store/api/chihir...   \n",
       "..                                                 ...   \n",
       "115  https://store.playstation.com/store/api/chihir...   \n",
       "116  https://store.playstation.com/store/api/chihir...   \n",
       "117  https://store.playstation.com/store/api/chihir...   \n",
       "118  https://store.playstation.com/store/api/chihir...   \n",
       "119  https://store.playstation.com/store/api/chihir...   \n",
       "\n",
       "                                                 Links Ratings  \n",
       "0    https://store.playstation.com//en-in/product/E...       1  \n",
       "1    https://store.playstation.com//en-in/product/E...       1  \n",
       "2    https://store.playstation.com//en-in/product/E...       5  \n",
       "3    https://store.playstation.com//en-in/product/E...       1  \n",
       "4    https://store.playstation.com//en-in/product/E...       3  \n",
       "..                                                 ...     ...  \n",
       "115  https://store.playstation.com//en-in/product/E...          \n",
       "116  https://store.playstation.com//en-in/product/E...       2  \n",
       "117  https://store.playstation.com//en-in/product/E...          \n",
       "118  https://store.playstation.com//en-in/product/E...       1  \n",
       "119  https://store.playstation.com//en-in/product/E...       1  \n",
       "\n",
       "[120 rows x 7 columns]"
      ]
     },
     "execution_count": 73,
     "metadata": {},
     "output_type": "execute_result"
    }
   ],
   "source": [
    "df_playstation"
   ]
  },
  {
   "cell_type": "code",
   "execution_count": null,
   "metadata": {},
   "outputs": [],
   "source": []
  }
 ],
 "metadata": {
  "kernelspec": {
   "display_name": "Python 3",
   "language": "python",
   "name": "python3"
  },
  "language_info": {
   "codemirror_mode": {
    "name": "ipython",
    "version": 3
   },
   "file_extension": ".py",
   "mimetype": "text/x-python",
   "name": "python",
   "nbconvert_exporter": "python",
   "pygments_lexer": "ipython3",
   "version": "3.7.6"
  }
 },
 "nbformat": 4,
 "nbformat_minor": 2
}
